{
  "nbformat": 4,
  "nbformat_minor": 0,
  "metadata": {
    "colab": {
      "provenance": [],
      "machine_shape": "hm",
      "gpuType": "T4",
      "history_visible": true,
      "include_colab_link": true
    },
    "kernelspec": {
      "name": "python3",
      "display_name": "Python 3"
    },
    "language_info": {
      "name": "python"
    },
    "accelerator": "GPU",
    "widgets": {
      "application/vnd.jupyter.widget-state+json": {
        "1b86610bd7374687a10234591b34f1b4": {
          "model_module": "@jupyter-widgets/controls",
          "model_name": "HBoxModel",
          "model_module_version": "1.5.0",
          "state": {
            "_dom_classes": [],
            "_model_module": "@jupyter-widgets/controls",
            "_model_module_version": "1.5.0",
            "_model_name": "HBoxModel",
            "_view_count": null,
            "_view_module": "@jupyter-widgets/controls",
            "_view_module_version": "1.5.0",
            "_view_name": "HBoxView",
            "box_style": "",
            "children": [
              "IPY_MODEL_ddfc27db1bb04ee5901cb05debdfb08a",
              "IPY_MODEL_d7d6c581bf2c4b48ae948789f4fb6f52",
              "IPY_MODEL_ea61046968ed4a068cf75f38ed09ba5b"
            ],
            "layout": "IPY_MODEL_1cbb714dc8a44da1903843a9e0ec69bf"
          }
        },
        "ddfc27db1bb04ee5901cb05debdfb08a": {
          "model_module": "@jupyter-widgets/controls",
          "model_name": "HTMLModel",
          "model_module_version": "1.5.0",
          "state": {
            "_dom_classes": [],
            "_model_module": "@jupyter-widgets/controls",
            "_model_module_version": "1.5.0",
            "_model_name": "HTMLModel",
            "_view_count": null,
            "_view_module": "@jupyter-widgets/controls",
            "_view_module_version": "1.5.0",
            "_view_name": "HTMLView",
            "description": "",
            "description_tooltip": null,
            "layout": "IPY_MODEL_5bedb2cd8dd140179b4736d231854c36",
            "placeholder": "​",
            "style": "IPY_MODEL_68b68dc92be24b93a68632f582bc83df",
            "value": "Downloading (…)lve/main/config.json: 100%"
          }
        },
        "d7d6c581bf2c4b48ae948789f4fb6f52": {
          "model_module": "@jupyter-widgets/controls",
          "model_name": "FloatProgressModel",
          "model_module_version": "1.5.0",
          "state": {
            "_dom_classes": [],
            "_model_module": "@jupyter-widgets/controls",
            "_model_module_version": "1.5.0",
            "_model_name": "FloatProgressModel",
            "_view_count": null,
            "_view_module": "@jupyter-widgets/controls",
            "_view_module_version": "1.5.0",
            "_view_name": "ProgressView",
            "bar_style": "success",
            "description": "",
            "description_tooltip": null,
            "layout": "IPY_MODEL_5d1b1ba2e35a4bac90a3789634d4df12",
            "max": 2107,
            "min": 0,
            "orientation": "horizontal",
            "style": "IPY_MODEL_b0bb9d6b10d4407bb6d11aafa65645a9",
            "value": 2107
          }
        },
        "ea61046968ed4a068cf75f38ed09ba5b": {
          "model_module": "@jupyter-widgets/controls",
          "model_name": "HTMLModel",
          "model_module_version": "1.5.0",
          "state": {
            "_dom_classes": [],
            "_model_module": "@jupyter-widgets/controls",
            "_model_module_version": "1.5.0",
            "_model_name": "HTMLModel",
            "_view_count": null,
            "_view_module": "@jupyter-widgets/controls",
            "_view_module_version": "1.5.0",
            "_view_name": "HTMLView",
            "description": "",
            "description_tooltip": null,
            "layout": "IPY_MODEL_3e8c19ccd9ad42609939039734f59914",
            "placeholder": "​",
            "style": "IPY_MODEL_4ed291c75b104817ad9e0fd170ad81c1",
            "value": " 2.11k/2.11k [00:00&lt;00:00, 155kB/s]"
          }
        },
        "1cbb714dc8a44da1903843a9e0ec69bf": {
          "model_module": "@jupyter-widgets/base",
          "model_name": "LayoutModel",
          "model_module_version": "1.2.0",
          "state": {
            "_model_module": "@jupyter-widgets/base",
            "_model_module_version": "1.2.0",
            "_model_name": "LayoutModel",
            "_view_count": null,
            "_view_module": "@jupyter-widgets/base",
            "_view_module_version": "1.2.0",
            "_view_name": "LayoutView",
            "align_content": null,
            "align_items": null,
            "align_self": null,
            "border": null,
            "bottom": null,
            "display": null,
            "flex": null,
            "flex_flow": null,
            "grid_area": null,
            "grid_auto_columns": null,
            "grid_auto_flow": null,
            "grid_auto_rows": null,
            "grid_column": null,
            "grid_gap": null,
            "grid_row": null,
            "grid_template_areas": null,
            "grid_template_columns": null,
            "grid_template_rows": null,
            "height": null,
            "justify_content": null,
            "justify_items": null,
            "left": null,
            "margin": null,
            "max_height": null,
            "max_width": null,
            "min_height": null,
            "min_width": null,
            "object_fit": null,
            "object_position": null,
            "order": null,
            "overflow": null,
            "overflow_x": null,
            "overflow_y": null,
            "padding": null,
            "right": null,
            "top": null,
            "visibility": null,
            "width": null
          }
        },
        "5bedb2cd8dd140179b4736d231854c36": {
          "model_module": "@jupyter-widgets/base",
          "model_name": "LayoutModel",
          "model_module_version": "1.2.0",
          "state": {
            "_model_module": "@jupyter-widgets/base",
            "_model_module_version": "1.2.0",
            "_model_name": "LayoutModel",
            "_view_count": null,
            "_view_module": "@jupyter-widgets/base",
            "_view_module_version": "1.2.0",
            "_view_name": "LayoutView",
            "align_content": null,
            "align_items": null,
            "align_self": null,
            "border": null,
            "bottom": null,
            "display": null,
            "flex": null,
            "flex_flow": null,
            "grid_area": null,
            "grid_auto_columns": null,
            "grid_auto_flow": null,
            "grid_auto_rows": null,
            "grid_column": null,
            "grid_gap": null,
            "grid_row": null,
            "grid_template_areas": null,
            "grid_template_columns": null,
            "grid_template_rows": null,
            "height": null,
            "justify_content": null,
            "justify_items": null,
            "left": null,
            "margin": null,
            "max_height": null,
            "max_width": null,
            "min_height": null,
            "min_width": null,
            "object_fit": null,
            "object_position": null,
            "order": null,
            "overflow": null,
            "overflow_x": null,
            "overflow_y": null,
            "padding": null,
            "right": null,
            "top": null,
            "visibility": null,
            "width": null
          }
        },
        "68b68dc92be24b93a68632f582bc83df": {
          "model_module": "@jupyter-widgets/controls",
          "model_name": "DescriptionStyleModel",
          "model_module_version": "1.5.0",
          "state": {
            "_model_module": "@jupyter-widgets/controls",
            "_model_module_version": "1.5.0",
            "_model_name": "DescriptionStyleModel",
            "_view_count": null,
            "_view_module": "@jupyter-widgets/base",
            "_view_module_version": "1.2.0",
            "_view_name": "StyleView",
            "description_width": ""
          }
        },
        "5d1b1ba2e35a4bac90a3789634d4df12": {
          "model_module": "@jupyter-widgets/base",
          "model_name": "LayoutModel",
          "model_module_version": "1.2.0",
          "state": {
            "_model_module": "@jupyter-widgets/base",
            "_model_module_version": "1.2.0",
            "_model_name": "LayoutModel",
            "_view_count": null,
            "_view_module": "@jupyter-widgets/base",
            "_view_module_version": "1.2.0",
            "_view_name": "LayoutView",
            "align_content": null,
            "align_items": null,
            "align_self": null,
            "border": null,
            "bottom": null,
            "display": null,
            "flex": null,
            "flex_flow": null,
            "grid_area": null,
            "grid_auto_columns": null,
            "grid_auto_flow": null,
            "grid_auto_rows": null,
            "grid_column": null,
            "grid_gap": null,
            "grid_row": null,
            "grid_template_areas": null,
            "grid_template_columns": null,
            "grid_template_rows": null,
            "height": null,
            "justify_content": null,
            "justify_items": null,
            "left": null,
            "margin": null,
            "max_height": null,
            "max_width": null,
            "min_height": null,
            "min_width": null,
            "object_fit": null,
            "object_position": null,
            "order": null,
            "overflow": null,
            "overflow_x": null,
            "overflow_y": null,
            "padding": null,
            "right": null,
            "top": null,
            "visibility": null,
            "width": null
          }
        },
        "b0bb9d6b10d4407bb6d11aafa65645a9": {
          "model_module": "@jupyter-widgets/controls",
          "model_name": "ProgressStyleModel",
          "model_module_version": "1.5.0",
          "state": {
            "_model_module": "@jupyter-widgets/controls",
            "_model_module_version": "1.5.0",
            "_model_name": "ProgressStyleModel",
            "_view_count": null,
            "_view_module": "@jupyter-widgets/base",
            "_view_module_version": "1.2.0",
            "_view_name": "StyleView",
            "bar_color": null,
            "description_width": ""
          }
        },
        "3e8c19ccd9ad42609939039734f59914": {
          "model_module": "@jupyter-widgets/base",
          "model_name": "LayoutModel",
          "model_module_version": "1.2.0",
          "state": {
            "_model_module": "@jupyter-widgets/base",
            "_model_module_version": "1.2.0",
            "_model_name": "LayoutModel",
            "_view_count": null,
            "_view_module": "@jupyter-widgets/base",
            "_view_module_version": "1.2.0",
            "_view_name": "LayoutView",
            "align_content": null,
            "align_items": null,
            "align_self": null,
            "border": null,
            "bottom": null,
            "display": null,
            "flex": null,
            "flex_flow": null,
            "grid_area": null,
            "grid_auto_columns": null,
            "grid_auto_flow": null,
            "grid_auto_rows": null,
            "grid_column": null,
            "grid_gap": null,
            "grid_row": null,
            "grid_template_areas": null,
            "grid_template_columns": null,
            "grid_template_rows": null,
            "height": null,
            "justify_content": null,
            "justify_items": null,
            "left": null,
            "margin": null,
            "max_height": null,
            "max_width": null,
            "min_height": null,
            "min_width": null,
            "object_fit": null,
            "object_position": null,
            "order": null,
            "overflow": null,
            "overflow_x": null,
            "overflow_y": null,
            "padding": null,
            "right": null,
            "top": null,
            "visibility": null,
            "width": null
          }
        },
        "4ed291c75b104817ad9e0fd170ad81c1": {
          "model_module": "@jupyter-widgets/controls",
          "model_name": "DescriptionStyleModel",
          "model_module_version": "1.5.0",
          "state": {
            "_model_module": "@jupyter-widgets/controls",
            "_model_module_version": "1.5.0",
            "_model_name": "DescriptionStyleModel",
            "_view_count": null,
            "_view_module": "@jupyter-widgets/base",
            "_view_module_version": "1.2.0",
            "_view_name": "StyleView",
            "description_width": ""
          }
        },
        "400239aae1904724a0d3dfc0b20bb48a": {
          "model_module": "@jupyter-widgets/controls",
          "model_name": "HBoxModel",
          "model_module_version": "1.5.0",
          "state": {
            "_dom_classes": [],
            "_model_module": "@jupyter-widgets/controls",
            "_model_module_version": "1.5.0",
            "_model_name": "HBoxModel",
            "_view_count": null,
            "_view_module": "@jupyter-widgets/controls",
            "_view_module_version": "1.5.0",
            "_view_name": "HBoxView",
            "box_style": "",
            "children": [
              "IPY_MODEL_e20bdd9b01374b2ab747f8127e05169f",
              "IPY_MODEL_a15977beed414363879a0708afdce48c",
              "IPY_MODEL_785ba3a2f8a34054a2a7fbfc1d38ed8b"
            ],
            "layout": "IPY_MODEL_bc820ce347d445eca2aa9a3d681e05fc"
          }
        },
        "e20bdd9b01374b2ab747f8127e05169f": {
          "model_module": "@jupyter-widgets/controls",
          "model_name": "HTMLModel",
          "model_module_version": "1.5.0",
          "state": {
            "_dom_classes": [],
            "_model_module": "@jupyter-widgets/controls",
            "_model_module_version": "1.5.0",
            "_model_name": "HTMLModel",
            "_view_count": null,
            "_view_module": "@jupyter-widgets/controls",
            "_view_module_version": "1.5.0",
            "_view_name": "HTMLView",
            "description": "",
            "description_tooltip": null,
            "layout": "IPY_MODEL_40e081d8f90c4cffa3381f2efc8cf151",
            "placeholder": "​",
            "style": "IPY_MODEL_a48b8bcad24640f29996a7470029b7e4",
            "value": "Downloading pytorch_model.bin: 100%"
          }
        },
        "a15977beed414363879a0708afdce48c": {
          "model_module": "@jupyter-widgets/controls",
          "model_name": "FloatProgressModel",
          "model_module_version": "1.5.0",
          "state": {
            "_dom_classes": [],
            "_model_module": "@jupyter-widgets/controls",
            "_model_module_version": "1.5.0",
            "_model_name": "FloatProgressModel",
            "_view_count": null,
            "_view_module": "@jupyter-widgets/controls",
            "_view_module_version": "1.5.0",
            "_view_name": "ProgressView",
            "bar_style": "success",
            "description": "",
            "description_tooltip": null,
            "layout": "IPY_MODEL_a3e5a620ddb64cfd96950bc5a105bab3",
            "max": 1262524593,
            "min": 0,
            "orientation": "horizontal",
            "style": "IPY_MODEL_de0de2c253cc450b9ce7d2c494747a23",
            "value": 1262524593
          }
        },
        "785ba3a2f8a34054a2a7fbfc1d38ed8b": {
          "model_module": "@jupyter-widgets/controls",
          "model_name": "HTMLModel",
          "model_module_version": "1.5.0",
          "state": {
            "_dom_classes": [],
            "_model_module": "@jupyter-widgets/controls",
            "_model_module_version": "1.5.0",
            "_model_name": "HTMLModel",
            "_view_count": null,
            "_view_module": "@jupyter-widgets/controls",
            "_view_module_version": "1.5.0",
            "_view_name": "HTMLView",
            "description": "",
            "description_tooltip": null,
            "layout": "IPY_MODEL_384ea73293e8406b9eea7f74a15ddcaf",
            "placeholder": "​",
            "style": "IPY_MODEL_9489426b623c49dcad62658e9ccb61d6",
            "value": " 1.26G/1.26G [00:02&lt;00:00, 498MB/s]"
          }
        },
        "bc820ce347d445eca2aa9a3d681e05fc": {
          "model_module": "@jupyter-widgets/base",
          "model_name": "LayoutModel",
          "model_module_version": "1.2.0",
          "state": {
            "_model_module": "@jupyter-widgets/base",
            "_model_module_version": "1.2.0",
            "_model_name": "LayoutModel",
            "_view_count": null,
            "_view_module": "@jupyter-widgets/base",
            "_view_module_version": "1.2.0",
            "_view_name": "LayoutView",
            "align_content": null,
            "align_items": null,
            "align_self": null,
            "border": null,
            "bottom": null,
            "display": null,
            "flex": null,
            "flex_flow": null,
            "grid_area": null,
            "grid_auto_columns": null,
            "grid_auto_flow": null,
            "grid_auto_rows": null,
            "grid_column": null,
            "grid_gap": null,
            "grid_row": null,
            "grid_template_areas": null,
            "grid_template_columns": null,
            "grid_template_rows": null,
            "height": null,
            "justify_content": null,
            "justify_items": null,
            "left": null,
            "margin": null,
            "max_height": null,
            "max_width": null,
            "min_height": null,
            "min_width": null,
            "object_fit": null,
            "object_position": null,
            "order": null,
            "overflow": null,
            "overflow_x": null,
            "overflow_y": null,
            "padding": null,
            "right": null,
            "top": null,
            "visibility": null,
            "width": null
          }
        },
        "40e081d8f90c4cffa3381f2efc8cf151": {
          "model_module": "@jupyter-widgets/base",
          "model_name": "LayoutModel",
          "model_module_version": "1.2.0",
          "state": {
            "_model_module": "@jupyter-widgets/base",
            "_model_module_version": "1.2.0",
            "_model_name": "LayoutModel",
            "_view_count": null,
            "_view_module": "@jupyter-widgets/base",
            "_view_module_version": "1.2.0",
            "_view_name": "LayoutView",
            "align_content": null,
            "align_items": null,
            "align_self": null,
            "border": null,
            "bottom": null,
            "display": null,
            "flex": null,
            "flex_flow": null,
            "grid_area": null,
            "grid_auto_columns": null,
            "grid_auto_flow": null,
            "grid_auto_rows": null,
            "grid_column": null,
            "grid_gap": null,
            "grid_row": null,
            "grid_template_areas": null,
            "grid_template_columns": null,
            "grid_template_rows": null,
            "height": null,
            "justify_content": null,
            "justify_items": null,
            "left": null,
            "margin": null,
            "max_height": null,
            "max_width": null,
            "min_height": null,
            "min_width": null,
            "object_fit": null,
            "object_position": null,
            "order": null,
            "overflow": null,
            "overflow_x": null,
            "overflow_y": null,
            "padding": null,
            "right": null,
            "top": null,
            "visibility": null,
            "width": null
          }
        },
        "a48b8bcad24640f29996a7470029b7e4": {
          "model_module": "@jupyter-widgets/controls",
          "model_name": "DescriptionStyleModel",
          "model_module_version": "1.5.0",
          "state": {
            "_model_module": "@jupyter-widgets/controls",
            "_model_module_version": "1.5.0",
            "_model_name": "DescriptionStyleModel",
            "_view_count": null,
            "_view_module": "@jupyter-widgets/base",
            "_view_module_version": "1.2.0",
            "_view_name": "StyleView",
            "description_width": ""
          }
        },
        "a3e5a620ddb64cfd96950bc5a105bab3": {
          "model_module": "@jupyter-widgets/base",
          "model_name": "LayoutModel",
          "model_module_version": "1.2.0",
          "state": {
            "_model_module": "@jupyter-widgets/base",
            "_model_module_version": "1.2.0",
            "_model_name": "LayoutModel",
            "_view_count": null,
            "_view_module": "@jupyter-widgets/base",
            "_view_module_version": "1.2.0",
            "_view_name": "LayoutView",
            "align_content": null,
            "align_items": null,
            "align_self": null,
            "border": null,
            "bottom": null,
            "display": null,
            "flex": null,
            "flex_flow": null,
            "grid_area": null,
            "grid_auto_columns": null,
            "grid_auto_flow": null,
            "grid_auto_rows": null,
            "grid_column": null,
            "grid_gap": null,
            "grid_row": null,
            "grid_template_areas": null,
            "grid_template_columns": null,
            "grid_template_rows": null,
            "height": null,
            "justify_content": null,
            "justify_items": null,
            "left": null,
            "margin": null,
            "max_height": null,
            "max_width": null,
            "min_height": null,
            "min_width": null,
            "object_fit": null,
            "object_position": null,
            "order": null,
            "overflow": null,
            "overflow_x": null,
            "overflow_y": null,
            "padding": null,
            "right": null,
            "top": null,
            "visibility": null,
            "width": null
          }
        },
        "de0de2c253cc450b9ce7d2c494747a23": {
          "model_module": "@jupyter-widgets/controls",
          "model_name": "ProgressStyleModel",
          "model_module_version": "1.5.0",
          "state": {
            "_model_module": "@jupyter-widgets/controls",
            "_model_module_version": "1.5.0",
            "_model_name": "ProgressStyleModel",
            "_view_count": null,
            "_view_module": "@jupyter-widgets/base",
            "_view_module_version": "1.2.0",
            "_view_name": "StyleView",
            "bar_color": null,
            "description_width": ""
          }
        },
        "384ea73293e8406b9eea7f74a15ddcaf": {
          "model_module": "@jupyter-widgets/base",
          "model_name": "LayoutModel",
          "model_module_version": "1.2.0",
          "state": {
            "_model_module": "@jupyter-widgets/base",
            "_model_module_version": "1.2.0",
            "_model_name": "LayoutModel",
            "_view_count": null,
            "_view_module": "@jupyter-widgets/base",
            "_view_module_version": "1.2.0",
            "_view_name": "LayoutView",
            "align_content": null,
            "align_items": null,
            "align_self": null,
            "border": null,
            "bottom": null,
            "display": null,
            "flex": null,
            "flex_flow": null,
            "grid_area": null,
            "grid_auto_columns": null,
            "grid_auto_flow": null,
            "grid_auto_rows": null,
            "grid_column": null,
            "grid_gap": null,
            "grid_row": null,
            "grid_template_areas": null,
            "grid_template_columns": null,
            "grid_template_rows": null,
            "height": null,
            "justify_content": null,
            "justify_items": null,
            "left": null,
            "margin": null,
            "max_height": null,
            "max_width": null,
            "min_height": null,
            "min_width": null,
            "object_fit": null,
            "object_position": null,
            "order": null,
            "overflow": null,
            "overflow_x": null,
            "overflow_y": null,
            "padding": null,
            "right": null,
            "top": null,
            "visibility": null,
            "width": null
          }
        },
        "9489426b623c49dcad62658e9ccb61d6": {
          "model_module": "@jupyter-widgets/controls",
          "model_name": "DescriptionStyleModel",
          "model_module_version": "1.5.0",
          "state": {
            "_model_module": "@jupyter-widgets/controls",
            "_model_module_version": "1.5.0",
            "_model_name": "DescriptionStyleModel",
            "_view_count": null,
            "_view_module": "@jupyter-widgets/base",
            "_view_module_version": "1.2.0",
            "_view_name": "StyleView",
            "description_width": ""
          }
        },
        "62959dbfa3164cbe88fa201e7ab385aa": {
          "model_module": "@jupyter-widgets/controls",
          "model_name": "HBoxModel",
          "model_module_version": "1.5.0",
          "state": {
            "_dom_classes": [],
            "_model_module": "@jupyter-widgets/controls",
            "_model_module_version": "1.5.0",
            "_model_name": "HBoxModel",
            "_view_count": null,
            "_view_module": "@jupyter-widgets/controls",
            "_view_module_version": "1.5.0",
            "_view_name": "HBoxView",
            "box_style": "",
            "children": [
              "IPY_MODEL_37e11a09237a4afbaf646da9cfb6ff52",
              "IPY_MODEL_d520b6e41c3f4d28898948d2dc2121cd",
              "IPY_MODEL_70653077fbfc4f1c9a32e489951d05c1"
            ],
            "layout": "IPY_MODEL_da175c8e37c046a0b871b12db7918b57"
          }
        },
        "37e11a09237a4afbaf646da9cfb6ff52": {
          "model_module": "@jupyter-widgets/controls",
          "model_name": "HTMLModel",
          "model_module_version": "1.5.0",
          "state": {
            "_dom_classes": [],
            "_model_module": "@jupyter-widgets/controls",
            "_model_module_version": "1.5.0",
            "_model_name": "HTMLModel",
            "_view_count": null,
            "_view_module": "@jupyter-widgets/controls",
            "_view_module_version": "1.5.0",
            "_view_name": "HTMLView",
            "description": "",
            "description_tooltip": null,
            "layout": "IPY_MODEL_2030c354ef0b4cb9b0be141b120e0599",
            "placeholder": "​",
            "style": "IPY_MODEL_0a7a5313b0af4792add9e993ea6c0340",
            "value": "Downloading (…)rocessor_config.json: 100%"
          }
        },
        "d520b6e41c3f4d28898948d2dc2121cd": {
          "model_module": "@jupyter-widgets/controls",
          "model_name": "FloatProgressModel",
          "model_module_version": "1.5.0",
          "state": {
            "_dom_classes": [],
            "_model_module": "@jupyter-widgets/controls",
            "_model_module_version": "1.5.0",
            "_model_name": "FloatProgressModel",
            "_view_count": null,
            "_view_module": "@jupyter-widgets/controls",
            "_view_module_version": "1.5.0",
            "_view_name": "ProgressView",
            "bar_style": "success",
            "description": "",
            "description_tooltip": null,
            "layout": "IPY_MODEL_d2f481dbada14ff390c8bed18630353d",
            "max": 159,
            "min": 0,
            "orientation": "horizontal",
            "style": "IPY_MODEL_4f4f68dfb301475bbfb5830218cbb690",
            "value": 159
          }
        },
        "70653077fbfc4f1c9a32e489951d05c1": {
          "model_module": "@jupyter-widgets/controls",
          "model_name": "HTMLModel",
          "model_module_version": "1.5.0",
          "state": {
            "_dom_classes": [],
            "_model_module": "@jupyter-widgets/controls",
            "_model_module_version": "1.5.0",
            "_model_name": "HTMLModel",
            "_view_count": null,
            "_view_module": "@jupyter-widgets/controls",
            "_view_module_version": "1.5.0",
            "_view_name": "HTMLView",
            "description": "",
            "description_tooltip": null,
            "layout": "IPY_MODEL_d67c967c144e41ed95c83d4ae96e5f0c",
            "placeholder": "​",
            "style": "IPY_MODEL_e7d441c675d54981a2ad77f373293e4a",
            "value": " 159/159 [00:00&lt;00:00, 12.9kB/s]"
          }
        },
        "da175c8e37c046a0b871b12db7918b57": {
          "model_module": "@jupyter-widgets/base",
          "model_name": "LayoutModel",
          "model_module_version": "1.2.0",
          "state": {
            "_model_module": "@jupyter-widgets/base",
            "_model_module_version": "1.2.0",
            "_model_name": "LayoutModel",
            "_view_count": null,
            "_view_module": "@jupyter-widgets/base",
            "_view_module_version": "1.2.0",
            "_view_name": "LayoutView",
            "align_content": null,
            "align_items": null,
            "align_self": null,
            "border": null,
            "bottom": null,
            "display": null,
            "flex": null,
            "flex_flow": null,
            "grid_area": null,
            "grid_auto_columns": null,
            "grid_auto_flow": null,
            "grid_auto_rows": null,
            "grid_column": null,
            "grid_gap": null,
            "grid_row": null,
            "grid_template_areas": null,
            "grid_template_columns": null,
            "grid_template_rows": null,
            "height": null,
            "justify_content": null,
            "justify_items": null,
            "left": null,
            "margin": null,
            "max_height": null,
            "max_width": null,
            "min_height": null,
            "min_width": null,
            "object_fit": null,
            "object_position": null,
            "order": null,
            "overflow": null,
            "overflow_x": null,
            "overflow_y": null,
            "padding": null,
            "right": null,
            "top": null,
            "visibility": null,
            "width": null
          }
        },
        "2030c354ef0b4cb9b0be141b120e0599": {
          "model_module": "@jupyter-widgets/base",
          "model_name": "LayoutModel",
          "model_module_version": "1.2.0",
          "state": {
            "_model_module": "@jupyter-widgets/base",
            "_model_module_version": "1.2.0",
            "_model_name": "LayoutModel",
            "_view_count": null,
            "_view_module": "@jupyter-widgets/base",
            "_view_module_version": "1.2.0",
            "_view_name": "LayoutView",
            "align_content": null,
            "align_items": null,
            "align_self": null,
            "border": null,
            "bottom": null,
            "display": null,
            "flex": null,
            "flex_flow": null,
            "grid_area": null,
            "grid_auto_columns": null,
            "grid_auto_flow": null,
            "grid_auto_rows": null,
            "grid_column": null,
            "grid_gap": null,
            "grid_row": null,
            "grid_template_areas": null,
            "grid_template_columns": null,
            "grid_template_rows": null,
            "height": null,
            "justify_content": null,
            "justify_items": null,
            "left": null,
            "margin": null,
            "max_height": null,
            "max_width": null,
            "min_height": null,
            "min_width": null,
            "object_fit": null,
            "object_position": null,
            "order": null,
            "overflow": null,
            "overflow_x": null,
            "overflow_y": null,
            "padding": null,
            "right": null,
            "top": null,
            "visibility": null,
            "width": null
          }
        },
        "0a7a5313b0af4792add9e993ea6c0340": {
          "model_module": "@jupyter-widgets/controls",
          "model_name": "DescriptionStyleModel",
          "model_module_version": "1.5.0",
          "state": {
            "_model_module": "@jupyter-widgets/controls",
            "_model_module_version": "1.5.0",
            "_model_name": "DescriptionStyleModel",
            "_view_count": null,
            "_view_module": "@jupyter-widgets/base",
            "_view_module_version": "1.2.0",
            "_view_name": "StyleView",
            "description_width": ""
          }
        },
        "d2f481dbada14ff390c8bed18630353d": {
          "model_module": "@jupyter-widgets/base",
          "model_name": "LayoutModel",
          "model_module_version": "1.2.0",
          "state": {
            "_model_module": "@jupyter-widgets/base",
            "_model_module_version": "1.2.0",
            "_model_name": "LayoutModel",
            "_view_count": null,
            "_view_module": "@jupyter-widgets/base",
            "_view_module_version": "1.2.0",
            "_view_name": "LayoutView",
            "align_content": null,
            "align_items": null,
            "align_self": null,
            "border": null,
            "bottom": null,
            "display": null,
            "flex": null,
            "flex_flow": null,
            "grid_area": null,
            "grid_auto_columns": null,
            "grid_auto_flow": null,
            "grid_auto_rows": null,
            "grid_column": null,
            "grid_gap": null,
            "grid_row": null,
            "grid_template_areas": null,
            "grid_template_columns": null,
            "grid_template_rows": null,
            "height": null,
            "justify_content": null,
            "justify_items": null,
            "left": null,
            "margin": null,
            "max_height": null,
            "max_width": null,
            "min_height": null,
            "min_width": null,
            "object_fit": null,
            "object_position": null,
            "order": null,
            "overflow": null,
            "overflow_x": null,
            "overflow_y": null,
            "padding": null,
            "right": null,
            "top": null,
            "visibility": null,
            "width": null
          }
        },
        "4f4f68dfb301475bbfb5830218cbb690": {
          "model_module": "@jupyter-widgets/controls",
          "model_name": "ProgressStyleModel",
          "model_module_version": "1.5.0",
          "state": {
            "_model_module": "@jupyter-widgets/controls",
            "_model_module_version": "1.5.0",
            "_model_name": "ProgressStyleModel",
            "_view_count": null,
            "_view_module": "@jupyter-widgets/base",
            "_view_module_version": "1.2.0",
            "_view_name": "StyleView",
            "bar_color": null,
            "description_width": ""
          }
        },
        "d67c967c144e41ed95c83d4ae96e5f0c": {
          "model_module": "@jupyter-widgets/base",
          "model_name": "LayoutModel",
          "model_module_version": "1.2.0",
          "state": {
            "_model_module": "@jupyter-widgets/base",
            "_model_module_version": "1.2.0",
            "_model_name": "LayoutModel",
            "_view_count": null,
            "_view_module": "@jupyter-widgets/base",
            "_view_module_version": "1.2.0",
            "_view_name": "LayoutView",
            "align_content": null,
            "align_items": null,
            "align_self": null,
            "border": null,
            "bottom": null,
            "display": null,
            "flex": null,
            "flex_flow": null,
            "grid_area": null,
            "grid_auto_columns": null,
            "grid_auto_flow": null,
            "grid_auto_rows": null,
            "grid_column": null,
            "grid_gap": null,
            "grid_row": null,
            "grid_template_areas": null,
            "grid_template_columns": null,
            "grid_template_rows": null,
            "height": null,
            "justify_content": null,
            "justify_items": null,
            "left": null,
            "margin": null,
            "max_height": null,
            "max_width": null,
            "min_height": null,
            "min_width": null,
            "object_fit": null,
            "object_position": null,
            "order": null,
            "overflow": null,
            "overflow_x": null,
            "overflow_y": null,
            "padding": null,
            "right": null,
            "top": null,
            "visibility": null,
            "width": null
          }
        },
        "e7d441c675d54981a2ad77f373293e4a": {
          "model_module": "@jupyter-widgets/controls",
          "model_name": "DescriptionStyleModel",
          "model_module_version": "1.5.0",
          "state": {
            "_model_module": "@jupyter-widgets/controls",
            "_model_module_version": "1.5.0",
            "_model_name": "DescriptionStyleModel",
            "_view_count": null,
            "_view_module": "@jupyter-widgets/base",
            "_view_module_version": "1.2.0",
            "_view_name": "StyleView",
            "description_width": ""
          }
        },
        "686c78f35a5042b080338fb297fca29c": {
          "model_module": "@jupyter-widgets/controls",
          "model_name": "HBoxModel",
          "model_module_version": "1.5.0",
          "state": {
            "_dom_classes": [],
            "_model_module": "@jupyter-widgets/controls",
            "_model_module_version": "1.5.0",
            "_model_name": "HBoxModel",
            "_view_count": null,
            "_view_module": "@jupyter-widgets/controls",
            "_view_module_version": "1.5.0",
            "_view_name": "HBoxView",
            "box_style": "",
            "children": [
              "IPY_MODEL_d8b42cd91d6f439fb62ad5413e83f2d8",
              "IPY_MODEL_6c0d779984ab47e990fe57a2dc6bc89a",
              "IPY_MODEL_36ec7f704e5541b6afaf99c2a26d2035"
            ],
            "layout": "IPY_MODEL_cfc7b4e61f3d44d3ae265b760764fe8b"
          }
        },
        "d8b42cd91d6f439fb62ad5413e83f2d8": {
          "model_module": "@jupyter-widgets/controls",
          "model_name": "HTMLModel",
          "model_module_version": "1.5.0",
          "state": {
            "_dom_classes": [],
            "_model_module": "@jupyter-widgets/controls",
            "_model_module_version": "1.5.0",
            "_model_name": "HTMLModel",
            "_view_count": null,
            "_view_module": "@jupyter-widgets/controls",
            "_view_module_version": "1.5.0",
            "_view_name": "HTMLView",
            "description": "",
            "description_tooltip": null,
            "layout": "IPY_MODEL_de96049526964f6d8f0250a370926b1a",
            "placeholder": "​",
            "style": "IPY_MODEL_00af8b0375334861a1dc06a65c7b77a0",
            "value": "Downloading (…)olve/main/vocab.json: 100%"
          }
        },
        "6c0d779984ab47e990fe57a2dc6bc89a": {
          "model_module": "@jupyter-widgets/controls",
          "model_name": "FloatProgressModel",
          "model_module_version": "1.5.0",
          "state": {
            "_dom_classes": [],
            "_model_module": "@jupyter-widgets/controls",
            "_model_module_version": "1.5.0",
            "_model_name": "FloatProgressModel",
            "_view_count": null,
            "_view_module": "@jupyter-widgets/controls",
            "_view_module_version": "1.5.0",
            "_view_name": "ProgressView",
            "bar_style": "success",
            "description": "",
            "description_tooltip": null,
            "layout": "IPY_MODEL_b537793a8a9345ee8255fdfa81b7a4d4",
            "max": 1610,
            "min": 0,
            "orientation": "horizontal",
            "style": "IPY_MODEL_f8d04aa2d67e4d5e9b4adc06542d6181",
            "value": 1610
          }
        },
        "36ec7f704e5541b6afaf99c2a26d2035": {
          "model_module": "@jupyter-widgets/controls",
          "model_name": "HTMLModel",
          "model_module_version": "1.5.0",
          "state": {
            "_dom_classes": [],
            "_model_module": "@jupyter-widgets/controls",
            "_model_module_version": "1.5.0",
            "_model_name": "HTMLModel",
            "_view_count": null,
            "_view_module": "@jupyter-widgets/controls",
            "_view_module_version": "1.5.0",
            "_view_name": "HTMLView",
            "description": "",
            "description_tooltip": null,
            "layout": "IPY_MODEL_91d7e64f47c549edbb9ccacd949d366f",
            "placeholder": "​",
            "style": "IPY_MODEL_48112370a2d84a3ea807ab9495c1a1b2",
            "value": " 1.61k/1.61k [00:00&lt;00:00, 144kB/s]"
          }
        },
        "cfc7b4e61f3d44d3ae265b760764fe8b": {
          "model_module": "@jupyter-widgets/base",
          "model_name": "LayoutModel",
          "model_module_version": "1.2.0",
          "state": {
            "_model_module": "@jupyter-widgets/base",
            "_model_module_version": "1.2.0",
            "_model_name": "LayoutModel",
            "_view_count": null,
            "_view_module": "@jupyter-widgets/base",
            "_view_module_version": "1.2.0",
            "_view_name": "LayoutView",
            "align_content": null,
            "align_items": null,
            "align_self": null,
            "border": null,
            "bottom": null,
            "display": null,
            "flex": null,
            "flex_flow": null,
            "grid_area": null,
            "grid_auto_columns": null,
            "grid_auto_flow": null,
            "grid_auto_rows": null,
            "grid_column": null,
            "grid_gap": null,
            "grid_row": null,
            "grid_template_areas": null,
            "grid_template_columns": null,
            "grid_template_rows": null,
            "height": null,
            "justify_content": null,
            "justify_items": null,
            "left": null,
            "margin": null,
            "max_height": null,
            "max_width": null,
            "min_height": null,
            "min_width": null,
            "object_fit": null,
            "object_position": null,
            "order": null,
            "overflow": null,
            "overflow_x": null,
            "overflow_y": null,
            "padding": null,
            "right": null,
            "top": null,
            "visibility": null,
            "width": null
          }
        },
        "de96049526964f6d8f0250a370926b1a": {
          "model_module": "@jupyter-widgets/base",
          "model_name": "LayoutModel",
          "model_module_version": "1.2.0",
          "state": {
            "_model_module": "@jupyter-widgets/base",
            "_model_module_version": "1.2.0",
            "_model_name": "LayoutModel",
            "_view_count": null,
            "_view_module": "@jupyter-widgets/base",
            "_view_module_version": "1.2.0",
            "_view_name": "LayoutView",
            "align_content": null,
            "align_items": null,
            "align_self": null,
            "border": null,
            "bottom": null,
            "display": null,
            "flex": null,
            "flex_flow": null,
            "grid_area": null,
            "grid_auto_columns": null,
            "grid_auto_flow": null,
            "grid_auto_rows": null,
            "grid_column": null,
            "grid_gap": null,
            "grid_row": null,
            "grid_template_areas": null,
            "grid_template_columns": null,
            "grid_template_rows": null,
            "height": null,
            "justify_content": null,
            "justify_items": null,
            "left": null,
            "margin": null,
            "max_height": null,
            "max_width": null,
            "min_height": null,
            "min_width": null,
            "object_fit": null,
            "object_position": null,
            "order": null,
            "overflow": null,
            "overflow_x": null,
            "overflow_y": null,
            "padding": null,
            "right": null,
            "top": null,
            "visibility": null,
            "width": null
          }
        },
        "00af8b0375334861a1dc06a65c7b77a0": {
          "model_module": "@jupyter-widgets/controls",
          "model_name": "DescriptionStyleModel",
          "model_module_version": "1.5.0",
          "state": {
            "_model_module": "@jupyter-widgets/controls",
            "_model_module_version": "1.5.0",
            "_model_name": "DescriptionStyleModel",
            "_view_count": null,
            "_view_module": "@jupyter-widgets/base",
            "_view_module_version": "1.2.0",
            "_view_name": "StyleView",
            "description_width": ""
          }
        },
        "b537793a8a9345ee8255fdfa81b7a4d4": {
          "model_module": "@jupyter-widgets/base",
          "model_name": "LayoutModel",
          "model_module_version": "1.2.0",
          "state": {
            "_model_module": "@jupyter-widgets/base",
            "_model_module_version": "1.2.0",
            "_model_name": "LayoutModel",
            "_view_count": null,
            "_view_module": "@jupyter-widgets/base",
            "_view_module_version": "1.2.0",
            "_view_name": "LayoutView",
            "align_content": null,
            "align_items": null,
            "align_self": null,
            "border": null,
            "bottom": null,
            "display": null,
            "flex": null,
            "flex_flow": null,
            "grid_area": null,
            "grid_auto_columns": null,
            "grid_auto_flow": null,
            "grid_auto_rows": null,
            "grid_column": null,
            "grid_gap": null,
            "grid_row": null,
            "grid_template_areas": null,
            "grid_template_columns": null,
            "grid_template_rows": null,
            "height": null,
            "justify_content": null,
            "justify_items": null,
            "left": null,
            "margin": null,
            "max_height": null,
            "max_width": null,
            "min_height": null,
            "min_width": null,
            "object_fit": null,
            "object_position": null,
            "order": null,
            "overflow": null,
            "overflow_x": null,
            "overflow_y": null,
            "padding": null,
            "right": null,
            "top": null,
            "visibility": null,
            "width": null
          }
        },
        "f8d04aa2d67e4d5e9b4adc06542d6181": {
          "model_module": "@jupyter-widgets/controls",
          "model_name": "ProgressStyleModel",
          "model_module_version": "1.5.0",
          "state": {
            "_model_module": "@jupyter-widgets/controls",
            "_model_module_version": "1.5.0",
            "_model_name": "ProgressStyleModel",
            "_view_count": null,
            "_view_module": "@jupyter-widgets/base",
            "_view_module_version": "1.2.0",
            "_view_name": "StyleView",
            "bar_color": null,
            "description_width": ""
          }
        },
        "91d7e64f47c549edbb9ccacd949d366f": {
          "model_module": "@jupyter-widgets/base",
          "model_name": "LayoutModel",
          "model_module_version": "1.2.0",
          "state": {
            "_model_module": "@jupyter-widgets/base",
            "_model_module_version": "1.2.0",
            "_model_name": "LayoutModel",
            "_view_count": null,
            "_view_module": "@jupyter-widgets/base",
            "_view_module_version": "1.2.0",
            "_view_name": "LayoutView",
            "align_content": null,
            "align_items": null,
            "align_self": null,
            "border": null,
            "bottom": null,
            "display": null,
            "flex": null,
            "flex_flow": null,
            "grid_area": null,
            "grid_auto_columns": null,
            "grid_auto_flow": null,
            "grid_auto_rows": null,
            "grid_column": null,
            "grid_gap": null,
            "grid_row": null,
            "grid_template_areas": null,
            "grid_template_columns": null,
            "grid_template_rows": null,
            "height": null,
            "justify_content": null,
            "justify_items": null,
            "left": null,
            "margin": null,
            "max_height": null,
            "max_width": null,
            "min_height": null,
            "min_width": null,
            "object_fit": null,
            "object_position": null,
            "order": null,
            "overflow": null,
            "overflow_x": null,
            "overflow_y": null,
            "padding": null,
            "right": null,
            "top": null,
            "visibility": null,
            "width": null
          }
        },
        "48112370a2d84a3ea807ab9495c1a1b2": {
          "model_module": "@jupyter-widgets/controls",
          "model_name": "DescriptionStyleModel",
          "model_module_version": "1.5.0",
          "state": {
            "_model_module": "@jupyter-widgets/controls",
            "_model_module_version": "1.5.0",
            "_model_name": "DescriptionStyleModel",
            "_view_count": null,
            "_view_module": "@jupyter-widgets/base",
            "_view_module_version": "1.2.0",
            "_view_name": "StyleView",
            "description_width": ""
          }
        },
        "d065527c46e1458eb258a66fdfbedca9": {
          "model_module": "@jupyter-widgets/controls",
          "model_name": "HBoxModel",
          "model_module_version": "1.5.0",
          "state": {
            "_dom_classes": [],
            "_model_module": "@jupyter-widgets/controls",
            "_model_module_version": "1.5.0",
            "_model_name": "HBoxModel",
            "_view_count": null,
            "_view_module": "@jupyter-widgets/controls",
            "_view_module_version": "1.5.0",
            "_view_name": "HBoxView",
            "box_style": "",
            "children": [
              "IPY_MODEL_87f798aea22c400181b53582b3b56e90",
              "IPY_MODEL_8428f9179cb74796b5b665d6deb935b1",
              "IPY_MODEL_89612e45ba5743108e881292dbbd393b"
            ],
            "layout": "IPY_MODEL_02dcd4f6fb914b3294b4b14fe1e53a2c"
          }
        },
        "87f798aea22c400181b53582b3b56e90": {
          "model_module": "@jupyter-widgets/controls",
          "model_name": "HTMLModel",
          "model_module_version": "1.5.0",
          "state": {
            "_dom_classes": [],
            "_model_module": "@jupyter-widgets/controls",
            "_model_module_version": "1.5.0",
            "_model_name": "HTMLModel",
            "_view_count": null,
            "_view_module": "@jupyter-widgets/controls",
            "_view_module_version": "1.5.0",
            "_view_name": "HTMLView",
            "description": "",
            "description_tooltip": null,
            "layout": "IPY_MODEL_7b8ee17fd0474352aac5251472156d55",
            "placeholder": "​",
            "style": "IPY_MODEL_2c92b58f7609457fbe1b5bcb3e98301a",
            "value": "Downloading (…)okenizer_config.json: 100%"
          }
        },
        "8428f9179cb74796b5b665d6deb935b1": {
          "model_module": "@jupyter-widgets/controls",
          "model_name": "FloatProgressModel",
          "model_module_version": "1.5.0",
          "state": {
            "_dom_classes": [],
            "_model_module": "@jupyter-widgets/controls",
            "_model_module_version": "1.5.0",
            "_model_name": "FloatProgressModel",
            "_view_count": null,
            "_view_module": "@jupyter-widgets/controls",
            "_view_module_version": "1.5.0",
            "_view_name": "ProgressView",
            "bar_style": "success",
            "description": "",
            "description_tooltip": null,
            "layout": "IPY_MODEL_63d6f0db64364a58ad68626c71dd589a",
            "max": 181,
            "min": 0,
            "orientation": "horizontal",
            "style": "IPY_MODEL_704ec7eff82b418693ff86b664d9acc7",
            "value": 181
          }
        },
        "89612e45ba5743108e881292dbbd393b": {
          "model_module": "@jupyter-widgets/controls",
          "model_name": "HTMLModel",
          "model_module_version": "1.5.0",
          "state": {
            "_dom_classes": [],
            "_model_module": "@jupyter-widgets/controls",
            "_model_module_version": "1.5.0",
            "_model_name": "HTMLModel",
            "_view_count": null,
            "_view_module": "@jupyter-widgets/controls",
            "_view_module_version": "1.5.0",
            "_view_name": "HTMLView",
            "description": "",
            "description_tooltip": null,
            "layout": "IPY_MODEL_aafd1679202548c2989df55f8d1ee8f0",
            "placeholder": "​",
            "style": "IPY_MODEL_6bbc8c652e20487e865a7beab6568c09",
            "value": " 181/181 [00:00&lt;00:00, 15.4kB/s]"
          }
        },
        "02dcd4f6fb914b3294b4b14fe1e53a2c": {
          "model_module": "@jupyter-widgets/base",
          "model_name": "LayoutModel",
          "model_module_version": "1.2.0",
          "state": {
            "_model_module": "@jupyter-widgets/base",
            "_model_module_version": "1.2.0",
            "_model_name": "LayoutModel",
            "_view_count": null,
            "_view_module": "@jupyter-widgets/base",
            "_view_module_version": "1.2.0",
            "_view_name": "LayoutView",
            "align_content": null,
            "align_items": null,
            "align_self": null,
            "border": null,
            "bottom": null,
            "display": null,
            "flex": null,
            "flex_flow": null,
            "grid_area": null,
            "grid_auto_columns": null,
            "grid_auto_flow": null,
            "grid_auto_rows": null,
            "grid_column": null,
            "grid_gap": null,
            "grid_row": null,
            "grid_template_areas": null,
            "grid_template_columns": null,
            "grid_template_rows": null,
            "height": null,
            "justify_content": null,
            "justify_items": null,
            "left": null,
            "margin": null,
            "max_height": null,
            "max_width": null,
            "min_height": null,
            "min_width": null,
            "object_fit": null,
            "object_position": null,
            "order": null,
            "overflow": null,
            "overflow_x": null,
            "overflow_y": null,
            "padding": null,
            "right": null,
            "top": null,
            "visibility": null,
            "width": null
          }
        },
        "7b8ee17fd0474352aac5251472156d55": {
          "model_module": "@jupyter-widgets/base",
          "model_name": "LayoutModel",
          "model_module_version": "1.2.0",
          "state": {
            "_model_module": "@jupyter-widgets/base",
            "_model_module_version": "1.2.0",
            "_model_name": "LayoutModel",
            "_view_count": null,
            "_view_module": "@jupyter-widgets/base",
            "_view_module_version": "1.2.0",
            "_view_name": "LayoutView",
            "align_content": null,
            "align_items": null,
            "align_self": null,
            "border": null,
            "bottom": null,
            "display": null,
            "flex": null,
            "flex_flow": null,
            "grid_area": null,
            "grid_auto_columns": null,
            "grid_auto_flow": null,
            "grid_auto_rows": null,
            "grid_column": null,
            "grid_gap": null,
            "grid_row": null,
            "grid_template_areas": null,
            "grid_template_columns": null,
            "grid_template_rows": null,
            "height": null,
            "justify_content": null,
            "justify_items": null,
            "left": null,
            "margin": null,
            "max_height": null,
            "max_width": null,
            "min_height": null,
            "min_width": null,
            "object_fit": null,
            "object_position": null,
            "order": null,
            "overflow": null,
            "overflow_x": null,
            "overflow_y": null,
            "padding": null,
            "right": null,
            "top": null,
            "visibility": null,
            "width": null
          }
        },
        "2c92b58f7609457fbe1b5bcb3e98301a": {
          "model_module": "@jupyter-widgets/controls",
          "model_name": "DescriptionStyleModel",
          "model_module_version": "1.5.0",
          "state": {
            "_model_module": "@jupyter-widgets/controls",
            "_model_module_version": "1.5.0",
            "_model_name": "DescriptionStyleModel",
            "_view_count": null,
            "_view_module": "@jupyter-widgets/base",
            "_view_module_version": "1.2.0",
            "_view_name": "StyleView",
            "description_width": ""
          }
        },
        "63d6f0db64364a58ad68626c71dd589a": {
          "model_module": "@jupyter-widgets/base",
          "model_name": "LayoutModel",
          "model_module_version": "1.2.0",
          "state": {
            "_model_module": "@jupyter-widgets/base",
            "_model_module_version": "1.2.0",
            "_model_name": "LayoutModel",
            "_view_count": null,
            "_view_module": "@jupyter-widgets/base",
            "_view_module_version": "1.2.0",
            "_view_name": "LayoutView",
            "align_content": null,
            "align_items": null,
            "align_self": null,
            "border": null,
            "bottom": null,
            "display": null,
            "flex": null,
            "flex_flow": null,
            "grid_area": null,
            "grid_auto_columns": null,
            "grid_auto_flow": null,
            "grid_auto_rows": null,
            "grid_column": null,
            "grid_gap": null,
            "grid_row": null,
            "grid_template_areas": null,
            "grid_template_columns": null,
            "grid_template_rows": null,
            "height": null,
            "justify_content": null,
            "justify_items": null,
            "left": null,
            "margin": null,
            "max_height": null,
            "max_width": null,
            "min_height": null,
            "min_width": null,
            "object_fit": null,
            "object_position": null,
            "order": null,
            "overflow": null,
            "overflow_x": null,
            "overflow_y": null,
            "padding": null,
            "right": null,
            "top": null,
            "visibility": null,
            "width": null
          }
        },
        "704ec7eff82b418693ff86b664d9acc7": {
          "model_module": "@jupyter-widgets/controls",
          "model_name": "ProgressStyleModel",
          "model_module_version": "1.5.0",
          "state": {
            "_model_module": "@jupyter-widgets/controls",
            "_model_module_version": "1.5.0",
            "_model_name": "ProgressStyleModel",
            "_view_count": null,
            "_view_module": "@jupyter-widgets/base",
            "_view_module_version": "1.2.0",
            "_view_name": "StyleView",
            "bar_color": null,
            "description_width": ""
          }
        },
        "aafd1679202548c2989df55f8d1ee8f0": {
          "model_module": "@jupyter-widgets/base",
          "model_name": "LayoutModel",
          "model_module_version": "1.2.0",
          "state": {
            "_model_module": "@jupyter-widgets/base",
            "_model_module_version": "1.2.0",
            "_model_name": "LayoutModel",
            "_view_count": null,
            "_view_module": "@jupyter-widgets/base",
            "_view_module_version": "1.2.0",
            "_view_name": "LayoutView",
            "align_content": null,
            "align_items": null,
            "align_self": null,
            "border": null,
            "bottom": null,
            "display": null,
            "flex": null,
            "flex_flow": null,
            "grid_area": null,
            "grid_auto_columns": null,
            "grid_auto_flow": null,
            "grid_auto_rows": null,
            "grid_column": null,
            "grid_gap": null,
            "grid_row": null,
            "grid_template_areas": null,
            "grid_template_columns": null,
            "grid_template_rows": null,
            "height": null,
            "justify_content": null,
            "justify_items": null,
            "left": null,
            "margin": null,
            "max_height": null,
            "max_width": null,
            "min_height": null,
            "min_width": null,
            "object_fit": null,
            "object_position": null,
            "order": null,
            "overflow": null,
            "overflow_x": null,
            "overflow_y": null,
            "padding": null,
            "right": null,
            "top": null,
            "visibility": null,
            "width": null
          }
        },
        "6bbc8c652e20487e865a7beab6568c09": {
          "model_module": "@jupyter-widgets/controls",
          "model_name": "DescriptionStyleModel",
          "model_module_version": "1.5.0",
          "state": {
            "_model_module": "@jupyter-widgets/controls",
            "_model_module_version": "1.5.0",
            "_model_name": "DescriptionStyleModel",
            "_view_count": null,
            "_view_module": "@jupyter-widgets/base",
            "_view_module_version": "1.2.0",
            "_view_name": "StyleView",
            "description_width": ""
          }
        },
        "760348ede8664e85997c975fc32adf97": {
          "model_module": "@jupyter-widgets/controls",
          "model_name": "HBoxModel",
          "model_module_version": "1.5.0",
          "state": {
            "_dom_classes": [],
            "_model_module": "@jupyter-widgets/controls",
            "_model_module_version": "1.5.0",
            "_model_name": "HBoxModel",
            "_view_count": null,
            "_view_module": "@jupyter-widgets/controls",
            "_view_module_version": "1.5.0",
            "_view_name": "HBoxView",
            "box_style": "",
            "children": [
              "IPY_MODEL_c267463cadbb4e3e85f8831f1e1bee88",
              "IPY_MODEL_26800b0e56c34d358ad14d94e8679324",
              "IPY_MODEL_63081b1e17f5490bb562753b33cbcce7"
            ],
            "layout": "IPY_MODEL_b8fe1ffea0524a3a95a2ee198ec6778c"
          }
        },
        "c267463cadbb4e3e85f8831f1e1bee88": {
          "model_module": "@jupyter-widgets/controls",
          "model_name": "HTMLModel",
          "model_module_version": "1.5.0",
          "state": {
            "_dom_classes": [],
            "_model_module": "@jupyter-widgets/controls",
            "_model_module_version": "1.5.0",
            "_model_name": "HTMLModel",
            "_view_count": null,
            "_view_module": "@jupyter-widgets/controls",
            "_view_module_version": "1.5.0",
            "_view_name": "HTMLView",
            "description": "",
            "description_tooltip": null,
            "layout": "IPY_MODEL_ec8bf9c47ef34bbba779eae5ca283c72",
            "placeholder": "​",
            "style": "IPY_MODEL_14ef675ee36643a98b8486b8a63f7543",
            "value": "Downloading (…)cial_tokens_map.json: 100%"
          }
        },
        "26800b0e56c34d358ad14d94e8679324": {
          "model_module": "@jupyter-widgets/controls",
          "model_name": "FloatProgressModel",
          "model_module_version": "1.5.0",
          "state": {
            "_dom_classes": [],
            "_model_module": "@jupyter-widgets/controls",
            "_model_module_version": "1.5.0",
            "_model_name": "FloatProgressModel",
            "_view_count": null,
            "_view_module": "@jupyter-widgets/controls",
            "_view_module_version": "1.5.0",
            "_view_name": "ProgressView",
            "bar_style": "success",
            "description": "",
            "description_tooltip": null,
            "layout": "IPY_MODEL_caaac4275a6d43c28376050fc4cea912",
            "max": 85,
            "min": 0,
            "orientation": "horizontal",
            "style": "IPY_MODEL_241d8fd680cf4adb98fd8df3aeb5152e",
            "value": 85
          }
        },
        "63081b1e17f5490bb562753b33cbcce7": {
          "model_module": "@jupyter-widgets/controls",
          "model_name": "HTMLModel",
          "model_module_version": "1.5.0",
          "state": {
            "_dom_classes": [],
            "_model_module": "@jupyter-widgets/controls",
            "_model_module_version": "1.5.0",
            "_model_name": "HTMLModel",
            "_view_count": null,
            "_view_module": "@jupyter-widgets/controls",
            "_view_module_version": "1.5.0",
            "_view_name": "HTMLView",
            "description": "",
            "description_tooltip": null,
            "layout": "IPY_MODEL_427d692267a54c0f9588ae0016aa20af",
            "placeholder": "​",
            "style": "IPY_MODEL_8cb0d1f359014f03968f377f74638bb4",
            "value": " 85.0/85.0 [00:00&lt;00:00, 8.03kB/s]"
          }
        },
        "b8fe1ffea0524a3a95a2ee198ec6778c": {
          "model_module": "@jupyter-widgets/base",
          "model_name": "LayoutModel",
          "model_module_version": "1.2.0",
          "state": {
            "_model_module": "@jupyter-widgets/base",
            "_model_module_version": "1.2.0",
            "_model_name": "LayoutModel",
            "_view_count": null,
            "_view_module": "@jupyter-widgets/base",
            "_view_module_version": "1.2.0",
            "_view_name": "LayoutView",
            "align_content": null,
            "align_items": null,
            "align_self": null,
            "border": null,
            "bottom": null,
            "display": null,
            "flex": null,
            "flex_flow": null,
            "grid_area": null,
            "grid_auto_columns": null,
            "grid_auto_flow": null,
            "grid_auto_rows": null,
            "grid_column": null,
            "grid_gap": null,
            "grid_row": null,
            "grid_template_areas": null,
            "grid_template_columns": null,
            "grid_template_rows": null,
            "height": null,
            "justify_content": null,
            "justify_items": null,
            "left": null,
            "margin": null,
            "max_height": null,
            "max_width": null,
            "min_height": null,
            "min_width": null,
            "object_fit": null,
            "object_position": null,
            "order": null,
            "overflow": null,
            "overflow_x": null,
            "overflow_y": null,
            "padding": null,
            "right": null,
            "top": null,
            "visibility": null,
            "width": null
          }
        },
        "ec8bf9c47ef34bbba779eae5ca283c72": {
          "model_module": "@jupyter-widgets/base",
          "model_name": "LayoutModel",
          "model_module_version": "1.2.0",
          "state": {
            "_model_module": "@jupyter-widgets/base",
            "_model_module_version": "1.2.0",
            "_model_name": "LayoutModel",
            "_view_count": null,
            "_view_module": "@jupyter-widgets/base",
            "_view_module_version": "1.2.0",
            "_view_name": "LayoutView",
            "align_content": null,
            "align_items": null,
            "align_self": null,
            "border": null,
            "bottom": null,
            "display": null,
            "flex": null,
            "flex_flow": null,
            "grid_area": null,
            "grid_auto_columns": null,
            "grid_auto_flow": null,
            "grid_auto_rows": null,
            "grid_column": null,
            "grid_gap": null,
            "grid_row": null,
            "grid_template_areas": null,
            "grid_template_columns": null,
            "grid_template_rows": null,
            "height": null,
            "justify_content": null,
            "justify_items": null,
            "left": null,
            "margin": null,
            "max_height": null,
            "max_width": null,
            "min_height": null,
            "min_width": null,
            "object_fit": null,
            "object_position": null,
            "order": null,
            "overflow": null,
            "overflow_x": null,
            "overflow_y": null,
            "padding": null,
            "right": null,
            "top": null,
            "visibility": null,
            "width": null
          }
        },
        "14ef675ee36643a98b8486b8a63f7543": {
          "model_module": "@jupyter-widgets/controls",
          "model_name": "DescriptionStyleModel",
          "model_module_version": "1.5.0",
          "state": {
            "_model_module": "@jupyter-widgets/controls",
            "_model_module_version": "1.5.0",
            "_model_name": "DescriptionStyleModel",
            "_view_count": null,
            "_view_module": "@jupyter-widgets/base",
            "_view_module_version": "1.2.0",
            "_view_name": "StyleView",
            "description_width": ""
          }
        },
        "caaac4275a6d43c28376050fc4cea912": {
          "model_module": "@jupyter-widgets/base",
          "model_name": "LayoutModel",
          "model_module_version": "1.2.0",
          "state": {
            "_model_module": "@jupyter-widgets/base",
            "_model_module_version": "1.2.0",
            "_model_name": "LayoutModel",
            "_view_count": null,
            "_view_module": "@jupyter-widgets/base",
            "_view_module_version": "1.2.0",
            "_view_name": "LayoutView",
            "align_content": null,
            "align_items": null,
            "align_self": null,
            "border": null,
            "bottom": null,
            "display": null,
            "flex": null,
            "flex_flow": null,
            "grid_area": null,
            "grid_auto_columns": null,
            "grid_auto_flow": null,
            "grid_auto_rows": null,
            "grid_column": null,
            "grid_gap": null,
            "grid_row": null,
            "grid_template_areas": null,
            "grid_template_columns": null,
            "grid_template_rows": null,
            "height": null,
            "justify_content": null,
            "justify_items": null,
            "left": null,
            "margin": null,
            "max_height": null,
            "max_width": null,
            "min_height": null,
            "min_width": null,
            "object_fit": null,
            "object_position": null,
            "order": null,
            "overflow": null,
            "overflow_x": null,
            "overflow_y": null,
            "padding": null,
            "right": null,
            "top": null,
            "visibility": null,
            "width": null
          }
        },
        "241d8fd680cf4adb98fd8df3aeb5152e": {
          "model_module": "@jupyter-widgets/controls",
          "model_name": "ProgressStyleModel",
          "model_module_version": "1.5.0",
          "state": {
            "_model_module": "@jupyter-widgets/controls",
            "_model_module_version": "1.5.0",
            "_model_name": "ProgressStyleModel",
            "_view_count": null,
            "_view_module": "@jupyter-widgets/base",
            "_view_module_version": "1.2.0",
            "_view_name": "StyleView",
            "bar_color": null,
            "description_width": ""
          }
        },
        "427d692267a54c0f9588ae0016aa20af": {
          "model_module": "@jupyter-widgets/base",
          "model_name": "LayoutModel",
          "model_module_version": "1.2.0",
          "state": {
            "_model_module": "@jupyter-widgets/base",
            "_model_module_version": "1.2.0",
            "_model_name": "LayoutModel",
            "_view_count": null,
            "_view_module": "@jupyter-widgets/base",
            "_view_module_version": "1.2.0",
            "_view_name": "LayoutView",
            "align_content": null,
            "align_items": null,
            "align_self": null,
            "border": null,
            "bottom": null,
            "display": null,
            "flex": null,
            "flex_flow": null,
            "grid_area": null,
            "grid_auto_columns": null,
            "grid_auto_flow": null,
            "grid_auto_rows": null,
            "grid_column": null,
            "grid_gap": null,
            "grid_row": null,
            "grid_template_areas": null,
            "grid_template_columns": null,
            "grid_template_rows": null,
            "height": null,
            "justify_content": null,
            "justify_items": null,
            "left": null,
            "margin": null,
            "max_height": null,
            "max_width": null,
            "min_height": null,
            "min_width": null,
            "object_fit": null,
            "object_position": null,
            "order": null,
            "overflow": null,
            "overflow_x": null,
            "overflow_y": null,
            "padding": null,
            "right": null,
            "top": null,
            "visibility": null,
            "width": null
          }
        },
        "8cb0d1f359014f03968f377f74638bb4": {
          "model_module": "@jupyter-widgets/controls",
          "model_name": "DescriptionStyleModel",
          "model_module_version": "1.5.0",
          "state": {
            "_model_module": "@jupyter-widgets/controls",
            "_model_module_version": "1.5.0",
            "_model_name": "DescriptionStyleModel",
            "_view_count": null,
            "_view_module": "@jupyter-widgets/base",
            "_view_module_version": "1.2.0",
            "_view_name": "StyleView",
            "description_width": ""
          }
        }
      }
    }
  },
  "cells": [
    {
      "cell_type": "markdown",
      "metadata": {
        "id": "view-in-github",
        "colab_type": "text"
      },
      "source": [
        "<a href=\"https://colab.research.google.com/github/edrihan/chessvid/blob/main/tortoise_tts_chess.ipynb\" target=\"_parent\"><img src=\"https://colab.research.google.com/assets/colab-badge.svg\" alt=\"Open In Colab\"/></a>"
      ]
    },
    {
      "cell_type": "markdown",
      "source": [
        "#<font face=\"Trebuchet MS\" size=\"6\">Tortoise TTS<font color=\"#999\" size=\"4\">&nbsp;&nbsp;&nbsp;|&nbsp;&nbsp;&nbsp;</font><font color=\"#999\" size=\"4\">Text to spoken word audio</font><font color=\"#999\" size=\"4\">&nbsp;&nbsp;&nbsp;|&nbsp;&nbsp;&nbsp;</font><a href=\"https://github.com/olaviinha/NeuralTextToAudio\" target=\"_blank\"><font color=\"#999\" size=\"4\">Github</font></a>\n",
        "\n",
        "- All file and directory paths should be relative to your Google Drive root (_My Drive_). E.g. `voice_audio` value should be `Audio/test-voice.wav`, if you have a directory called _Audio_ in your drive, and you want to use _test-voice.wav_ from that directory. Paths are case-sensitive.\n",
        "- This notebook will attempt to prepare a coherent voice dataset from `voice_audio` input, but optimal `voice_audio` for coherent output should be a path to a WAV file of about 1 minute in duration, or a directory containing a total of about 1 minute of WAV files.\n",
        "- In case `voice_audio` contents exceeds 1 minute considerably, random clips (from random file, or files depending on contents, if directory given) will be picked for voice cloning."
      ],
      "metadata": {
        "id": "GBgr33OisX3y"
      }
    },
    {
      "cell_type": "code",
      "source": [
        "#@title #Setup\n",
        "#@markdown This cell needs to be run only once. It will mount your Google Drive and setup prerequisites.<br>\n",
        "#@markdown <small>Mounting Drive will enable this notebook to save outputs directly to your Drive. Otherwise you will need to copy/download them manually from this notebook.</small>\n",
        "\n",
        "force_setup = False\n",
        "repositories = ['https://github.com/neonbjb/tortoise-tts.git']\n",
        "pip_packages = 'scipy transformers==4.19.0'\n",
        "apt_packages = 'sox'\n",
        "mount_drive = False #@param {type:\"boolean\"}\n",
        "skip_setup = False #@ param {type:\"boolean\"}\n",
        "\n",
        "# Download the repo from Github\n",
        "import os\n",
        "from google.colab import output\n",
        "import warnings\n",
        "warnings.filterwarnings('ignore')\n",
        "%cd /content/\n",
        "\n",
        "# inhagcutils\n",
        "if not os.path.isfile('/content/inhagcutils.ipynb') and force_setup == False:\n",
        "  !pip -q install import-ipynb {pip_packages}\n",
        "  if apt_packages != '':\n",
        "    !apt-get update && apt-get install {apt_packages}\n",
        "  !curl -s -O https://raw.githubusercontent.com/olaviinha/inhagcutils/master/inhagcutils.ipynb\n",
        "import import_ipynb\n",
        "from inhagcutils import *\n",
        "\n",
        "# Mount Drive\n",
        "if mount_drive == True:\n",
        "  if not os.path.isdir('/content/drive'):\n",
        "    from google.colab import drive\n",
        "    drive.mount('/content/drive')\n",
        "    drive_root = '/content/drive/My Drive'\n",
        "  if not os.path.isdir('/content/mydrive'):\n",
        "    os.symlink('/content/drive/My Drive', '/content/mydrive')\n",
        "    drive_root = '/content/mydrive/'\n",
        "  drive_root_set = True\n",
        "else:\n",
        "  create_dirs(['/content/faux_drive'])\n",
        "  drive_root = '/content/faux_drive/'\n",
        "\n",
        "if len(repositories) > 0 and skip_setup == False:\n",
        "  for repo in repositories:\n",
        "    %cd /content/\n",
        "    install_dir = fix_path('/content/'+path_leaf(repo).replace('.git', ''))\n",
        "    repo = repo if '.git' in repo else repo+'.git'\n",
        "    !git clone {repo}\n",
        "    if os.path.isfile(install_dir+'requirements.txt'):\n",
        "      !pip install -r {install_dir}/requirements.txt\n",
        "    if os.path.isfile(install_dir+'setup.py') or os.path.isfile(install_dir+'setup.cfg'):\n",
        "      !pip install -e {install_dir}\n",
        "\n",
        "if len(repositories) == 1:\n",
        "  %cd {install_dir}\n",
        "\n",
        "dir_tmp = '/content/tmp/'\n",
        "dir_tmp_corpus = '/content/tmp/corpus/'\n",
        "dir_tmp_slices = '/content/tmp/slices/'\n",
        "dir_tmp_clips = '/content/tmp/clips/'\n",
        "dir_tmp_processed = '/content/tmp/processed/'\n",
        "create_dirs([dir_tmp, dir_tmp_corpus, dir_tmp_slices, dir_tmp_clips, dir_tmp_processed])\n",
        "\n",
        "import time, sys\n",
        "from datetime import timedelta\n",
        "import math\n",
        "\n",
        "# Imports used through the rest of the notebook.\n",
        "import torch\n",
        "import torchaudio\n",
        "import torch.nn as nn\n",
        "import torch.nn.functional as F\n",
        "\n",
        "import IPython\n",
        "import librosa\n",
        "import soundfile as sf\n",
        "\n",
        "from tortoise.api import TextToSpeech\n",
        "from tortoise.utils.audio import load_audio, load_voice, load_voices\n",
        "\n",
        "def slice_to_frames(audio_data, slice_duration, fade_in=0, fade_out=0, sr=44100):\n",
        "  a_duration = librosa.get_duration(audio_data, sr=sr)\n",
        "  clips = math.ceil(a_duration/slice_duration)\n",
        "  frames = []\n",
        "  for i in range(clips-1):\n",
        "    if i > 0 and i < clips:\n",
        "      start = i*slice_duration\n",
        "      audio_clip = clip_audio(audio_data, start, slice_duration)\n",
        "      if fade_in > 0 or fade_out > 0:\n",
        "        audio_clip = fade_audio(audio_clip, fade_in, fade_out, sr=sr)\n",
        "      frames.append(audio_clip)\n",
        "  return frames\n",
        "\n",
        "def clip_audio(audio_data, start, duration, sr=44100):\n",
        "  xstart = librosa.time_to_samples(start, sr=sr)\n",
        "  xduration = librosa.time_to_samples(start+duration, sr=sr)\n",
        "  audio_data = audio_data[:, xstart:xduration]\n",
        "  return audio_data\n",
        "\n",
        "def fade_audio(audio_data, fade_in=0.05, fade_out=0.05, sr=44100):\n",
        "  a_duration = librosa.get_duration(audio_data, sr=sr)\n",
        "  if fade_in > 0:\n",
        "    fade_in_to = librosa.time_to_samples(fade_in, sr=sr)\n",
        "    in_y = audio_data[:, 0:fade_in_to]\n",
        "    fade_ins = []\n",
        "    for channel in in_y:\n",
        "      fade = [ i/len(channel)*smp for i, smp in enumerate(channel) ]\n",
        "      fade_ins.append(fade)\n",
        "    fade_ins = np.array(fade_ins)\n",
        "    tail_start = fade_in_to+1\n",
        "    tail = audio_data[:, tail_start:]\n",
        "    audio_data = np.concatenate([fade_ins, tail], axis=1)\n",
        "  if fade_out > 0:\n",
        "    fade_out_start = librosa.time_to_samples(a_duration-fade_out, sr=sr)\n",
        "    out_y = audio_data[:, fade_out_start:]\n",
        "    fade_outs = []\n",
        "    for channel in out_y:\n",
        "      fade = [ smp-(i/len(channel)*smp) for i, smp in enumerate(channel) ]\n",
        "      fade_outs.append(fade)\n",
        "    fade_outs = np.array(fade_outs)\n",
        "    head_start = fade_out_start-1\n",
        "    head = audio_data[:, :head_start]\n",
        "    audio_data = np.concatenate([head, fade_outs], axis=1)\n",
        "  return audio_data\n",
        "\n",
        "def remove_silence(audio, window_size=0.2, threshold=0.1, save_as='', sr=44100):\n",
        "  if type(audio) != np.ndarray:\n",
        "    y, sr = librosa.load(audio, sr=None, mono=False)\n",
        "  else:\n",
        "    y = audio\n",
        "  audio_slices = slice_to_frames(y, window_size, sr=sr)\n",
        "  silence_removed_list = []\n",
        "  for audio_slice in audio_slices:\n",
        "    if max(audio_slice[0]) > threshold or max(audio_slice[1]) < -abs(threshold):\n",
        "      silence_removed_list.append(audio_slice)\n",
        "  silence_removed = np.concatenate(silence_removed_list, axis=1)\n",
        "  if save_as != '':\n",
        "    sf.write(save_as, silence_removed.T, sr)\n",
        "    return save_as\n",
        "  return silence_removed\n",
        "\n",
        "import locale\n",
        "def getpreferredencoding(do_setlocale = True):\n",
        "    return \"UTF-8\"\n",
        "locale.getpreferredencoding = getpreferredencoding\n",
        "\n",
        "def get_audio_duration(file):\n",
        "  y, sr = librosa.load(voice_file, sr=None, mono=True)\n",
        "  return librosa.get_duration(y, sr=sr)\n",
        "\n",
        "def get_dir_size(dir_path='.'):\n",
        "  total_size = 0\n",
        "  for dirpath, dirnames, filenames in os.walk(dir_path):\n",
        "    for f in filenames:\n",
        "      fp = os.path.join(dirpath, f)\n",
        "      if not os.path.islink(fp):\n",
        "        total_size += os.path.getsize(fp)\n",
        "  return total_size\n",
        "\n",
        "def chop_to_sentences(text):\n",
        "  delimiter = '.'\n",
        "  temp = [e+delimiter for e in text.split(delimiter) if e]\n",
        "  sentences = []\n",
        "  for sentence in temp:\n",
        "    delimiter = '?'\n",
        "    if delimiter in sentence:\n",
        "      wtf = sentence.split(delimiter)\n",
        "      for f in wtf:\n",
        "        if f[-1] != '.' and f[-1] != '?' and f[-1] != '?':\n",
        "          f = f+'?'\n",
        "        if f != '':\n",
        "          sentences.append(f.strip())\n",
        "    elif sentence.strip() != '' and len(sentence.strip()) > 1:\n",
        "      sentences.append(sentence.strip())\n",
        "  return sentences\n",
        "\n",
        "# This will download all the models used by Tortoise from the HuggingFace hub.\n",
        "tts = TextToSpeech()\n",
        "\n",
        "output.clear()\n",
        "# !nvidia-smi\n",
        "op(c.ok, 'Setup finished.', time=True)"
      ],
      "metadata": {
        "id": "Zl44n6FXsbnY",
        "colab": {
          "base_uri": "https://localhost:8080/",
          "height": 35,
          "referenced_widgets": [
            "1b86610bd7374687a10234591b34f1b4",
            "ddfc27db1bb04ee5901cb05debdfb08a",
            "d7d6c581bf2c4b48ae948789f4fb6f52",
            "ea61046968ed4a068cf75f38ed09ba5b",
            "1cbb714dc8a44da1903843a9e0ec69bf",
            "5bedb2cd8dd140179b4736d231854c36",
            "68b68dc92be24b93a68632f582bc83df",
            "5d1b1ba2e35a4bac90a3789634d4df12",
            "b0bb9d6b10d4407bb6d11aafa65645a9",
            "3e8c19ccd9ad42609939039734f59914",
            "4ed291c75b104817ad9e0fd170ad81c1",
            "400239aae1904724a0d3dfc0b20bb48a",
            "e20bdd9b01374b2ab747f8127e05169f",
            "a15977beed414363879a0708afdce48c",
            "785ba3a2f8a34054a2a7fbfc1d38ed8b",
            "bc820ce347d445eca2aa9a3d681e05fc",
            "40e081d8f90c4cffa3381f2efc8cf151",
            "a48b8bcad24640f29996a7470029b7e4",
            "a3e5a620ddb64cfd96950bc5a105bab3",
            "de0de2c253cc450b9ce7d2c494747a23",
            "384ea73293e8406b9eea7f74a15ddcaf",
            "9489426b623c49dcad62658e9ccb61d6",
            "62959dbfa3164cbe88fa201e7ab385aa",
            "37e11a09237a4afbaf646da9cfb6ff52",
            "d520b6e41c3f4d28898948d2dc2121cd",
            "70653077fbfc4f1c9a32e489951d05c1",
            "da175c8e37c046a0b871b12db7918b57",
            "2030c354ef0b4cb9b0be141b120e0599",
            "0a7a5313b0af4792add9e993ea6c0340",
            "d2f481dbada14ff390c8bed18630353d",
            "4f4f68dfb301475bbfb5830218cbb690",
            "d67c967c144e41ed95c83d4ae96e5f0c",
            "e7d441c675d54981a2ad77f373293e4a",
            "686c78f35a5042b080338fb297fca29c",
            "d8b42cd91d6f439fb62ad5413e83f2d8",
            "6c0d779984ab47e990fe57a2dc6bc89a",
            "36ec7f704e5541b6afaf99c2a26d2035",
            "cfc7b4e61f3d44d3ae265b760764fe8b",
            "de96049526964f6d8f0250a370926b1a",
            "00af8b0375334861a1dc06a65c7b77a0",
            "b537793a8a9345ee8255fdfa81b7a4d4",
            "f8d04aa2d67e4d5e9b4adc06542d6181",
            "91d7e64f47c549edbb9ccacd949d366f",
            "48112370a2d84a3ea807ab9495c1a1b2",
            "d065527c46e1458eb258a66fdfbedca9",
            "87f798aea22c400181b53582b3b56e90",
            "8428f9179cb74796b5b665d6deb935b1",
            "89612e45ba5743108e881292dbbd393b",
            "02dcd4f6fb914b3294b4b14fe1e53a2c",
            "7b8ee17fd0474352aac5251472156d55",
            "2c92b58f7609457fbe1b5bcb3e98301a",
            "63d6f0db64364a58ad68626c71dd589a",
            "704ec7eff82b418693ff86b664d9acc7",
            "aafd1679202548c2989df55f8d1ee8f0",
            "6bbc8c652e20487e865a7beab6568c09",
            "760348ede8664e85997c975fc32adf97",
            "c267463cadbb4e3e85f8831f1e1bee88",
            "26800b0e56c34d358ad14d94e8679324",
            "63081b1e17f5490bb562753b33cbcce7",
            "b8fe1ffea0524a3a95a2ee198ec6778c",
            "ec8bf9c47ef34bbba779eae5ca283c72",
            "14ef675ee36643a98b8486b8a63f7543",
            "caaac4275a6d43c28376050fc4cea912",
            "241d8fd680cf4adb98fd8df3aeb5152e",
            "427d692267a54c0f9588ae0016aa20af",
            "8cb0d1f359014f03968f377f74638bb4"
          ]
        },
        "outputId": "c951e5b4-862f-46ec-b958-fa6026c67331"
      },
      "execution_count": 1,
      "outputs": [
        {
          "output_type": "stream",
          "name": "stdout",
          "text": [
            "\u001b[90m2023-09-05 02:07:03 \u001b[92mSetup finished.\u001b[0m\n"
          ]
        }
      ]
    },
    {
      "cell_type": "code",
      "source": [
        "import os"
      ],
      "metadata": {
        "id": "46OP_UIHEs76"
      },
      "execution_count": 2,
      "outputs": []
    },
    {
      "cell_type": "code",
      "source": [
        "'''\n",
        "import zipfile\n",
        "import soundfile as sf\n",
        "from tqdm import tqdm\n",
        "from google.colab import files\n",
        "folder_path = \"/content/faux_drive/fullset/\"\n",
        "zip_file = zipfile.ZipFile(\"/content/faux_drive/fullset/fimdom.zip\", 'w')\n",
        "for root, dirs, filez in os.walk(folder_path):\n",
        "    for file in tqdm(filez,desc=\"zipping files\"):\n",
        "        file_path = os.path.join(root, file)\n",
        "        extension = file_path.split('.')[-1]\n",
        "        files.download(file_path)\n",
        "        if extension in ('wav','mp3','flac'):\n",
        "\n",
        "          # Specify the paths for the input WAV file and output FLAC file\n",
        "          input_file = file_path\n",
        "          output_flac = file_path.replace('.'+extension,'.flac')\n",
        "          # Read the WAV file\n",
        "          data, samplerate = sf.read(input_file)\n",
        "\n",
        "          # Write the audio data to a FLAC file\n",
        "          sf.write(output_flac, data, samplerate, format='flac')\n",
        "          zip_file.write(output_flac, os.path.relpath(file_path, folder_path))\n",
        "          !rm -rf {file_path}\n",
        "        else:\n",
        "          zip_file.write(file_path, os.path.relpath(file_path, folder_path))\n",
        "          !rm -rf {file_path}\n",
        "'''\n"
      ],
      "metadata": {
        "colab": {
          "base_uri": "https://localhost:8080/",
          "height": 178
        },
        "id": "0UWYqXSbgROA",
        "outputId": "23620a27-0199-4ea2-bdf9-2ad7a9773058"
      },
      "execution_count": 3,
      "outputs": [
        {
          "output_type": "execute_result",
          "data": {
            "text/plain": [
              "'\\nimport zipfile\\nimport soundfile as sf\\nfrom tqdm import tqdm\\nfrom google.colab import files\\nfolder_path = \"/content/faux_drive/fullset/\"\\nzip_file = zipfile.ZipFile(\"/content/faux_drive/fullset/fimdom.zip\", \\'w\\')\\nfor root, dirs, filez in os.walk(folder_path):\\n    for file in tqdm(filez,desc=\"zipping files\"):\\n        file_path = os.path.join(root, file)\\n        extension = file_path.split(\\'.\\')[-1]\\n        files.download(file_path)\\n        if extension in (\\'wav\\',\\'mp3\\',\\'flac\\'):\\n\\n          # Specify the paths for the input WAV file and output FLAC file\\n          input_file = file_path\\n          output_flac = file_path.replace(\\'.\\'+extension,\\'.flac\\')\\n          # Read the WAV file\\n          data, samplerate = sf.read(input_file)\\n\\n          # Write the audio data to a FLAC file\\n          sf.write(output_flac, data, samplerate, format=\\'flac\\')\\n          zip_file.write(output_flac, os.path.relpath(file_path, folder_path))\\n          !rm -rf {file_path}\\n        else:\\n          zip_file.write(file_path, os.path.relpath(file_path, folder_path))\\n          !rm -rf {file_path}\\n'"
            ],
            "application/vnd.google.colaboratory.intrinsic+json": {
              "type": "string"
            }
          },
          "metadata": {},
          "execution_count": 3
        }
      ]
    },
    {
      "cell_type": "code",
      "source": [
        "#@title #Audio tool installation\n",
        "\n",
        "#!pip uninstall -y youtube_dl\n",
        "#!pip install --upgrade youtube-dl\n",
        "#!pip install {r'git+https://github.com/ytdl-org/youtube-dl.git@master#egg=youtube_dl'}\n",
        "\n",
        "!pip install sox\n",
        "!pip install pydub\n",
        "from pydub import AudioSegment\n",
        "print(\"youtube-dl --version:\",end=' ')\n",
        "!youtube-dl --version\n",
        "print(\"yt-dlp --version:\",end=' ')\n",
        "!pip install https://files.pythonhosted.org/packages/5c/da/ef08140cea3392288a8f6cd60f6f12510a4c5776eead53e90151f139af19/yt_dlp-2023.7.6-py2.py3-none-any.whl\n",
        "!yt-dlp --version"
      ],
      "metadata": {
        "colab": {
          "base_uri": "https://localhost:8080/"
        },
        "id": "Go-6bUVpwzXf",
        "outputId": "1a769758-cfe0-4969-a000-c89ed34be03f"
      },
      "execution_count": 4,
      "outputs": [
        {
          "output_type": "stream",
          "name": "stdout",
          "text": [
            "Collecting sox\n",
            "  Downloading sox-1.4.1-py2.py3-none-any.whl (39 kB)\n",
            "Requirement already satisfied: numpy>=1.9.0 in /usr/local/lib/python3.10/dist-packages (from sox) (1.23.5)\n",
            "Installing collected packages: sox\n",
            "Successfully installed sox-1.4.1\n",
            "Collecting pydub\n",
            "  Downloading pydub-0.25.1-py2.py3-none-any.whl (32 kB)\n",
            "Installing collected packages: pydub\n",
            "Successfully installed pydub-0.25.1\n",
            "youtube-dl --version: /bin/bash: line 1: youtube-dl: command not found\n",
            "yt-dlp --version: Collecting yt-dlp==2023.7.6\n",
            "  Downloading yt_dlp-2023.7.6-py2.py3-none-any.whl (3.0 MB)\n",
            "\u001b[2K     \u001b[90m━━━━━━━━━━━━━━━━━━━━━━━━━━━━━━━━━━━━━━━━\u001b[0m \u001b[32m3.0/3.0 MB\u001b[0m \u001b[31m35.6 MB/s\u001b[0m eta \u001b[36m0:00:00\u001b[0m\n",
            "\u001b[?25hCollecting mutagen (from yt-dlp==2023.7.6)\n",
            "  Downloading mutagen-1.47.0-py3-none-any.whl (194 kB)\n",
            "\u001b[2K     \u001b[90m━━━━━━━━━━━━━━━━━━━━━━━━━━━━━━━━━━━━━━\u001b[0m \u001b[32m194.4/194.4 kB\u001b[0m \u001b[31m23.9 MB/s\u001b[0m eta \u001b[36m0:00:00\u001b[0m\n",
            "\u001b[?25hCollecting pycryptodomex (from yt-dlp==2023.7.6)\n",
            "  Downloading pycryptodomex-3.18.0-cp35-abi3-manylinux_2_17_x86_64.manylinux2014_x86_64.whl (2.1 MB)\n",
            "\u001b[2K     \u001b[90m━━━━━━━━━━━━━━━━━━━━━━━━━━━━━━━━━━━━━━━━\u001b[0m \u001b[32m2.1/2.1 MB\u001b[0m \u001b[31m97.2 MB/s\u001b[0m eta \u001b[36m0:00:00\u001b[0m\n",
            "\u001b[?25hCollecting websockets (from yt-dlp==2023.7.6)\n",
            "  Downloading websockets-11.0.3-cp310-cp310-manylinux_2_5_x86_64.manylinux1_x86_64.manylinux_2_17_x86_64.manylinux2014_x86_64.whl (129 kB)\n",
            "\u001b[2K     \u001b[90m━━━━━━━━━━━━━━━━━━━━━━━━━━━━━━━━━━━━━━\u001b[0m \u001b[32m129.9/129.9 kB\u001b[0m \u001b[31m19.8 MB/s\u001b[0m eta \u001b[36m0:00:00\u001b[0m\n",
            "\u001b[?25hRequirement already satisfied: certifi in /usr/local/lib/python3.10/dist-packages (from yt-dlp==2023.7.6) (2023.7.22)\n",
            "Collecting brotli (from yt-dlp==2023.7.6)\n",
            "  Downloading Brotli-1.0.9-cp310-cp310-manylinux_2_5_x86_64.manylinux1_x86_64.manylinux_2_12_x86_64.manylinux2010_x86_64.whl (2.7 MB)\n",
            "\u001b[2K     \u001b[90m━━━━━━━━━━━━━━━━━━━━━━━━━━━━━━━━━━━━━━━━\u001b[0m \u001b[32m2.7/2.7 MB\u001b[0m \u001b[31m76.5 MB/s\u001b[0m eta \u001b[36m0:00:00\u001b[0m\n",
            "\u001b[?25hInstalling collected packages: brotli, websockets, pycryptodomex, mutagen, yt-dlp\n",
            "Successfully installed brotli-1.0.9 mutagen-1.47.0 pycryptodomex-3.18.0 websockets-11.0.3 yt-dlp-2023.7.6\n",
            "2023.07.06\n"
          ]
        }
      ]
    },
    {
      "cell_type": "code",
      "source": [
        "#@title #Download audio and process\n",
        "voices_settings = {\n",
        "    \"sarl\": [\n",
        "        {\n",
        "            'link': 'https://www.youtube.com/watch?v=wupToqz1e2g',\n",
        "            'start_sec': 0.21,\n",
        "            'end_sec': 9.29\n",
        "         },\n",
        "        {\n",
        "            'link':'https://www.youtube.com/watch?v=nGanLUnjoPI',\n",
        "            'start_sec': 60.56,\n",
        "            'end_sec': 75.56,\n",
        "        #},\n",
        "        #       {\n",
        "        #    'link':'https://www.youtube.com/watch?v=UnURElCzGc0',\n",
        "        #    'start_sec': 3.372,\n",
        "        #    'end_sec': 17,\n",
        "        },\n",
        "        #{\n",
        "        #    'link':'https://www.youtube.com/watch?v=UnURElCzGc0',\n",
        "        #    'start_sec': 3 * 60 + 26,\n",
        "        #    'end_sec': 3 * 60 + 42,\n",
        "        #},\n",
        "       #         {\n",
        "       #     'link':'https://www.loc.gov/item/cosmos000110/',\n",
        "       #     'start_sec': 0,\n",
        "      #     'end_sec': 20,\n",
        "      #  },\n",
        "\n",
        "\n",
        "\n",
        "\n",
        "    ]\n",
        "\n",
        "\n",
        "}\n",
        "\n",
        "for voice, refs in voices_settings.items():\n",
        "  for r, ref in enumerate(refs):\n",
        "\n",
        "    #voice_path = '/content/tortoise-tts/tortoise/voices'\n",
        "    voices_path = os.path.join(drive_root,\"voices\")\n",
        "    voices_path = os.path.join(drive_root)\n",
        "    voice_path = os.path.join(voices_path,voice)\n",
        "    filename =  voice + '.mp4'\n",
        "    filepath = os.path.join(voice_path,filename)\n",
        "    chunkpath =  os.path.join(voice_path,str(r) + '.wav')\n",
        "    inputs_dir = os.path.join(drive_root,'voice_inputs')\n",
        "    input_name = ref[\"link\"].split(\"=\")[-1]\n",
        "    input_path = os.path.join(inputs_dir,input_name + '.wav')\n",
        "    if not os.path.isfile(input_path):\n",
        "      print(f'downloading {ref[\"link\"]} because {input_path} is not a file')\n",
        "      #command = f'mkdir {voices_path}; cd {voices_path} ; mkdir {voice} ; cd {voice_path};' + \\\n",
        "      #          f'youtube-dl -x --audio-format wav {ref[\"link\"]} --output \"{str(r)+\"_complete\"}.%(ext)s\"'\n",
        "\n",
        "      !mkdir {inputs_dir}\n",
        "\n",
        "      command = f\"cd {inputs_dir} && \" + \\\n",
        "                f'yt-dlp -x --audio-format wav {ref[\"link\"]} --output \"{input_name}.%(ext)s\"'\n",
        "\n",
        "      print('running command:')\n",
        "      print(command)\n",
        "\n",
        "      !{command}\n",
        "\n",
        "    else:\n",
        "      print(f'skipped downloading {ref[\"link\"]} because {input_path} exists')\n",
        "\n",
        "\n",
        "    !mkdir {os.path.dirname(chunkpath)}\n",
        "\n",
        "    #Trim\n",
        "    !rm -rf {chunkpath}\n",
        "    command = f\"sox {input_path} {chunkpath} trim {ref['start_sec']} {ref['end_sec'] - ref['start_sec']}\"\n",
        "    print('running command:')\n",
        "    print(command)\n",
        "    !{command}\n",
        "\n",
        "    #Normalize\n",
        "    try:\n",
        "      audio = AudioSegment.from_file(chunkpath)\n",
        "    except FileNotFoundError as e:\n",
        "        raise FileNotFoundError(str(e) + f'\\nProbably failed to download files to {input_path}.\\nIs your downloader working?')\n",
        "    normalized_audio = audio.normalize()\n",
        "    compressed_audio = normalized_audio.compress_dynamic_range(threshold=-5,ratio=2,attack=5,release=50)\n",
        "    renormalized_audio = compressed_audio.normalize()\n",
        "    renormalized_audio.export(chunkpath, format=\"wav\")\n",
        "\n",
        "\n",
        "\n",
        "\n",
        "\n",
        "#!cd /content/faux_drive && youtube-dl --extract-audio --audio-format wav https://lotushelix.bandcamp.com/track/stranger-in-the-street --output \"stranger.wav\"\n",
        "#!cd /content/faux_drive && youtube-dl --extract-audio --audio-format wav https://lotushelix.bandcamp.com/track/live-life-in-love --output \"love.wav\"\n",
        "#!cd /content/faux_drive && youtube-dl --extract-audio --audio-format wav https://youtu.be/3u3JSEqNtlg --output \"technique.wav\"\n",
        "#!cd /content/faux_drive && youtube-dl --extract-audio --audio-format wav https://www.youtube.com/watch?v=wupToqz1e2g --output \"sagan.wav\"\n"
      ],
      "metadata": {
        "colab": {
          "base_uri": "https://localhost:8080/"
        },
        "id": "McYb8Om5xJF3",
        "outputId": "837357fa-8c02-4204-f185-7c8175e41664"
      },
      "execution_count": 5,
      "outputs": [
        {
          "output_type": "stream",
          "name": "stdout",
          "text": [
            "downloading https://www.youtube.com/watch?v=wupToqz1e2g because /content/faux_drive/voice_inputs/wupToqz1e2g.wav is not a file\n",
            "running command:\n",
            "cd /content/faux_drive/voice_inputs && yt-dlp -x --audio-format wav https://www.youtube.com/watch?v=wupToqz1e2g --output \"wupToqz1e2g.%(ext)s\"\n",
            "[youtube] Extracting URL: https://www.youtube.com/watch?v=wupToqz1e2g\n",
            "[youtube] wupToqz1e2g: Downloading webpage\n",
            "[youtube] wupToqz1e2g: Downloading ios player API JSON\n",
            "[youtube] wupToqz1e2g: Downloading android player API JSON\n",
            "[youtube] wupToqz1e2g: Downloading m3u8 information\n",
            "[info] wupToqz1e2g: Downloading 1 format(s): 251\n",
            "[download] Destination: wupToqz1e2g.webm\n",
            "\u001b[K[download] 100% of    2.78MiB in \u001b[1;37m00:00:00\u001b[0m at \u001b[0;32m73.85MiB/s\u001b[0m\n",
            "[ExtractAudio] Destination: wupToqz1e2g.wav\n",
            "Deleting original file wupToqz1e2g.webm (pass -k to keep)\n",
            "running command:\n",
            "sox /content/faux_drive/voice_inputs/wupToqz1e2g.wav /content/faux_drive/sarl/0.wav trim 0.21 9.079999999999998\n",
            "downloading https://www.youtube.com/watch?v=nGanLUnjoPI because /content/faux_drive/voice_inputs/nGanLUnjoPI.wav is not a file\n",
            "mkdir: cannot create directory ‘/content/faux_drive/voice_inputs’: File exists\n",
            "running command:\n",
            "cd /content/faux_drive/voice_inputs && yt-dlp -x --audio-format wav https://www.youtube.com/watch?v=nGanLUnjoPI --output \"nGanLUnjoPI.%(ext)s\"\n",
            "[youtube] Extracting URL: https://www.youtube.com/watch?v=nGanLUnjoPI\n",
            "[youtube] nGanLUnjoPI: Downloading webpage\n",
            "[youtube] nGanLUnjoPI: Downloading ios player API JSON\n",
            "[youtube] nGanLUnjoPI: Downloading android player API JSON\n",
            "[youtube] nGanLUnjoPI: Downloading m3u8 information\n",
            "[info] nGanLUnjoPI: Downloading 1 format(s): 251\n",
            "[download] Destination: nGanLUnjoPI.webm\n",
            "\u001b[K[download] 100% of    3.21MiB in \u001b[1;37m00:00:00\u001b[0m at \u001b[0;32m43.87MiB/s\u001b[0m\n",
            "[ExtractAudio] Destination: nGanLUnjoPI.wav\n",
            "Deleting original file nGanLUnjoPI.webm (pass -k to keep)\n",
            "mkdir: cannot create directory ‘/content/faux_drive/sarl’: File exists\n",
            "running command:\n",
            "sox /content/faux_drive/voice_inputs/nGanLUnjoPI.wav /content/faux_drive/sarl/1.wav trim 60.56 15.0\n"
          ]
        }
      ]
    },
    {
      "cell_type": "code",
      "source": [
        "from google.colab import files\n",
        "import zipfile\n",
        "import time\n",
        "from datetime import datetime\n",
        "#@title # Generate spoken word audio\n",
        "text = \"bishop takes on eff 1. rook takes on jee 1. knight takes on ay 6. king takes on jee 8. bishop takes bee 4. bishop takes on jee 2. rook takes on aych 2. knight takes on dee 8. bishop takes on ee 5. bishop takes on jee 1. knight takes on ay 2. knight takes on ee 8. bishop takes on dee 6. knight takes on sea 4. knight takes on ay 5. knight takes on ee 6. bishop takes on ee 1. bishop takes eff 6. king takes on aych 8. king takes eff 8. bishop takes on bee 4. king takes ee 2. king takes ee 6. knight takes on sea 6. bishop takes jee 8. queen takes on ee 4. king takes on eff 3. bishop takes on ee 4. bishop takes on jee 5. rook takes on ay 8. bishop takes on eff 2. king takes on sea 6\" #@param {type:\"string\"}\n",
        "voice_audio = \"sarl\" #@param {type:\"string\"}\n",
        "combo_voice = False #@param {type:\"boolean\"}\n",
        "preset = \"high_quality\" #@param [\"standard\", \"fast\", \"ultra_fast\", \"high_quality\"]\n",
        "output_dir = \"fullset\" #@param {type:\"string\"}\n",
        "end_session_when_done = False #@param {type: \"boolean\"}\n",
        "save_sentences_as_they_render = False #@param {type: \"boolean\"}\n",
        "zip_sentences_and_download_all = True #@param {type: \"boolean\"}\n",
        "# @markdown `download_partial_zip_after_minutes <= 0` will disable this behavior\n",
        "download_partial_zip_after_minutes = 0 #@param {type:\"number\"}\n",
        "if download_partial_zip_after_minutes < 0:\n",
        "  download_partial_zip_after_minutes = 0\n",
        "\n",
        "save_txt = True\n",
        "timer_start = time.time()\n",
        "try:\n",
        "  uniq_id = gen_id()\n",
        "except:\n",
        "  raise Exception('Restart and run all')\n",
        "\n",
        "folder_path = os.path.join(\"/content/faux_drive\",\"fullset\")\n",
        "slice_length = 12 # seconds per slice\n",
        "use_slices = 5 # slices to use\n",
        "optimal_samples_duration = slice_length * use_slices # total duration\n",
        "sample_rate = 24000\n",
        "#process this many sentences in one go\n",
        "# @markdown try lowering `chunk_sentences` if you run out of VRAM. It worked with 8 with a high-RAM environment:\n",
        "chunk_sentences = 1 #@param {type:\"integer\", description:\"If you run out of (v)RAM try lowering this\"}\n",
        "dir_byte_limit = 48000000\n",
        "merge_sentences = False #@param {type:\"boolean\"}\n",
        "\n",
        "\n",
        "start_time = datetime.now()\n",
        "if zip_sentences_and_download_all:\n",
        "  zip_name = uniq_id\n",
        "  zip_file = zipfile.ZipFile(f'{zip_name}.zip','w')\n",
        "\n",
        "\n",
        "if download_partial_zip_after_minutes:\n",
        "\n",
        "  partial_zip_num = 0\n",
        "  partial_zip_start_time = datetime.now()\n",
        "  partial_zip_name = f'{uniq_id}_{partial_zip_num}'\n",
        "  partial_zip_path = os.path.join(folder_path,\n",
        "                                partial_zip_name + '.zip')\n",
        "  partial_zip_file = zipfile.ZipFile(f'{partial_zip_path}','w',)\n",
        "  def close_zip_part():\n",
        "\n",
        "    global partial_zip_file, partial_zip_path\n",
        "    print(f\"closing {partial_zip_path}\")\n",
        "    # Finsh last one\n",
        "    partial_zip_file.close()\n",
        "    #print(f'sleeping for {10}s')\n",
        "    #time.sleep(10)\n",
        "    print(f\"trying to start download of {partial_zip_path}\")\n",
        "\n",
        "    files.download(partial_zip_path)\n",
        "    !wget -q http://www.yoursite.com/file.csv\n",
        "\n",
        "\n",
        "\n",
        "  def new_zip_part():\n",
        "    global partial_zip_num\n",
        "    global partial_zip_start_time, partial_zip_name\n",
        "    global partial_zip_path, partial_zip_file\n",
        "      # INIT partial_zip\n",
        "    close_zip_part()\n",
        "    #start next one\n",
        "    partial_zip_num += 1\n",
        "    partial_zip_start_time = datetime.now()\n",
        "    partial_zip_name = f'{uniq_id}_{partial_zip_num}'\n",
        "    partial_zip_path = os.path.join(folder_path,\n",
        "                                    partial_zip_name + '.zip')\n",
        "    partial_zip_file = zipfile.ZipFile(f'{partial_zip_path}','w',)\n",
        "    print('created {partial_zip_path}')\n",
        "\n",
        "\n",
        "\n",
        "\n",
        "\n",
        "\n",
        "\n",
        "op(c.title, 'Run ID:', uniq_id, time=True)\n",
        "print()\n",
        "\n",
        "voice_corpus = voice_audio\n",
        "prompts = chop_to_sentences(text)\n",
        "\n",
        "if chunk_sentences > 1:\n",
        "  prompts = [''.join(prompts[i:i+chunk_sentences]) for i in range(0, len(prompts), chunk_sentences)]\n",
        "\n",
        "clean_dirs([dir_tmp_corpus, dir_tmp_slices, dir_tmp_clips, dir_tmp_processed])\n",
        "\n",
        "if os.path.isfile(drive_root+voice_corpus):\n",
        "  clean_dirs([dir_tmp_corpus])\n",
        "  shutil.copy(drive_root+voice_corpus, dir_tmp_corpus)\n",
        "  voice_dirs = [dir_tmp_corpus]\n",
        "else:\n",
        "  if voice_corpus == 'voice_list':\n",
        "    voice_dirs = [drive_root+x for x in voice_list]\n",
        "  elif ',' in voice_corpus:\n",
        "    voice_dirs = [drive_root+fix_path(x.strip()) for x in voice_corpus.split(',')]\n",
        "  elif ';' in voice_corpus:\n",
        "    voice_dirs = [drive_root+fix_path(x.strip()) for x in voice_corpus.split(';')]\n",
        "  else:\n",
        "    voice_dirs = [drive_root+fix_path(voice_corpus)]\n",
        "\n",
        "# Output\n",
        "if output_dir == '':\n",
        "  if mount_drive == True:\n",
        "    dir_out = dir_tmp\n",
        "  else:\n",
        "    dir_out = drive_root\n",
        "else:\n",
        "  if not os.path.isdir(drive_root+output_dir):\n",
        "    os.mkdir(drive_root+output_dir)\n",
        "  dir_out = drive_root+fix_path(output_dir)\n",
        "\n",
        "total = len(voice_dirs * len(prompts))\n",
        "use_voices = []\n",
        "\n",
        "txt_file = dir_out+uniq_id+'.txt'\n",
        "if save_txt: append_txt(txt_file, timestamp(human_readable=True)+' '+uniq_id+'\\n\\n'+text+'\\n\\n'+'combo_voice: '+str(combo_voice)+'\\n'+'preset: '+preset+'\\n'+'dir_out: '+dir_out+'\\n\\n')\n",
        "\n",
        "for i, voice_dir in enumerate(voice_dirs, 1):\n",
        "  if voice_dir == dir_tmp_corpus:\n",
        "    voice_name = basename(voice_corpus)\n",
        "  else:\n",
        "    voice_name = path_leaf(voice_dir)\n",
        "\n",
        "  use_voices.append(voice_name)\n",
        "  new_voice_dir = '/content/tortoise-tts/tortoise/voices/'+voice_name+'/'\n",
        "  if not os.path.isdir(new_voice_dir):\n",
        "    os.mkdir(new_voice_dir)\n",
        "  else:\n",
        "    clean_dirs([new_voice_dir])\n",
        "  voice_files = list_audio(voice_dir)\n",
        "\n",
        "  random.shuffle(voice_files)\n",
        "\n",
        "  if save_txt: append_txt(txt_file, voice_name+'\\n'+'In: '+voice_dir)\n",
        "\n",
        "  if len(voice_files) == 0:\n",
        "    print()\n",
        "    op(c.fail, 'Skipping '+voice_name+' - Reason: WAV files not found in dir:', voice_dir.replace(drive_root, ''), time=True)\n",
        "    if save_txt: append_txt(txt_file, 'Out: - (no wav found, SKIP)\\n')\n",
        "  else:\n",
        "    op(c.okb, 'Processing voice files...', time=True)\n",
        "    bytes_collected = 0\n",
        "    for voice_file in voice_files:\n",
        "      voice_file = remove_silence(voice_file, window_size=2, threshold=0.1, save_as=dir_tmp_processed+path_leaf(voice_file))\n",
        "      file_duration = get_audio_duration(voice_file)\n",
        "      slice_file = dir_tmp_slices+path_leaf(voice_file)\n",
        "\n",
        "      if file_duration > slice_length:\n",
        "        !sox {sox_q} \"{voice_file}\" -r 22050 {slice_file} trim 0 {slice_length} : newfile : restart\n",
        "      else:\n",
        "        !sox {sox_q} \"{voice_file}\" -r 22050 {slice_file}\n",
        "\n",
        "      clips = list_audio(dir_tmp_slices)\n",
        "\n",
        "      short_clips = []\n",
        "      long_clips = []\n",
        "      for clip in clips:\n",
        "        clip_duration = get_audio_duration(clip)\n",
        "        if clip_duration >= slice_length:\n",
        "          long_clips.append(clip)\n",
        "        else:\n",
        "          short_clips.append(clip)\n",
        "        if (len(long_clips)*slice_length >= optimal_samples_duration):\n",
        "          break\n",
        "\n",
        "      if len(long_clips) >= use_slices:\n",
        "        selected_clips = random.sample(long_clips, use_slices)\n",
        "      else:\n",
        "        selected_clips = clips\n",
        "\n",
        "      if save_txt: append_txt(txt_file, 'Selected clips:')\n",
        "      for clip in selected_clips:\n",
        "        if save_txt: append_txt(txt_file, path_leaf(clip)+'\\n')\n",
        "        shutil.copy(clip, new_voice_dir)\n",
        "\n",
        "      file_size = os.path.getsize(voice_file)\n",
        "      bytes_collected += file_size\n",
        "      if bytes_collected > dir_byte_limit:\n",
        "        break\n",
        "\n",
        "    merge_list = []\n",
        "    for ii, text in enumerate(prompts, 1):\n",
        "\n",
        "      ndx_info = str(i*ii)+'/'+str(total)+' '\n",
        "\n",
        "      voice_samples = None\n",
        "      conditioning_latents = None\n",
        "      gen = None\n",
        "\n",
        "      print()\n",
        "      op(c.title, ndx_info+'Processing', voice_name, time=True)\n",
        "\n",
        "      if combo_voice == False:\n",
        "        op(c.title, ndx_info+'Synthesizing', text+'...', time=True)\n",
        "\n",
        "        file_out = dir_out+uniq_id+'__'+voice_name+'_'+str(ii).zfill(3)+'_'+slug(text[:60])+'.wav'\n",
        "        if save_txt: append_txt(txt_file, 'Out: '+file_out+'\\n')\n",
        "        voice_samples, conditioning_latents = load_voice(voice_name)\n",
        "        gen = tts.tts_with_preset(text, voice_samples=voice_samples, conditioning_latents=conditioning_latents, preset=preset)\n",
        "        torchaudio.save(file_out, gen.squeeze(0).cpu(), sample_rate)\n",
        "        if os.path.isfile(file_out):\n",
        "          op(c.ok, 'Saved', file_out.replace(drive_root, ''), time=True)\n",
        "          merge_list.append(file_out)\n",
        "          if save_sentences_as_they_render:\n",
        "            files.download(file_out)\n",
        "          if zip_sentences_and_download_all:\n",
        "            print(f'adding {file_out} to {zip_name}.zip')\n",
        "            #zip_file.write(file_out,\n",
        "            #  os.path.relpath(partial_zip_path, folder_path))\n",
        "            print(file_out, partial_zip_path, folder_path,os.path.relpath(partial_zip_path, folder_path))\n",
        "            input('on line 223')\n",
        "            zip_file.write(file_out)\n",
        "          if bool(download_partial_zip_after_minutes):\n",
        "            print(f'adding {file_out} to {partial_zip_file}.zip')\n",
        "            partial_zip_file.write(file_out,\n",
        "              os.path.relpath(partial_zip_path, folder_path)) #HERE\n",
        "            elapsed = datetime.now() -partial_zip_start_time\n",
        "            minutes = elapsed.total_seconds() / 60\n",
        "            if ii == (len(prompts) - 1):\n",
        "              close_zip_part()\n",
        "            elif minutes > download_partial_zip_after_minutes:\n",
        "              new_zip_part()\n",
        "\n",
        "        else:\n",
        "          op(c.fail, 'Error saving', file_out.replace(drive_root, ''), time=True)\n",
        "\n",
        "        del voice_samples\n",
        "        del conditioning_latents\n",
        "        del gen\n",
        "\n",
        "      torch.cuda.empty_cache()\n",
        "      import gc\n",
        "      gc.collect()\n",
        "\n",
        "    if merge_sentences == True:\n",
        "      sox_input_list = ' '.join(merge_list)\n",
        "      sox_merge_out = dir_out+uniq_id+'__'+voice_name+'_FULL.wav'\n",
        "      !sox {sox_q} {sox_input_list} {sox_merge_out}\n",
        "\n",
        "if combo_voice == True:\n",
        "   for text in prompts:\n",
        "     print()\n",
        "     op(c.title, 'Synthesizing', text[:40]+'...', time=True)\n",
        "     file_out = dir_out+uniq_id+'__'+voice_name+'_'+slug(text[:60])+'.wav'\n",
        "     if save_txt == True:\n",
        "       append_txt(txt_file, 'Out: '+file_out+'\\n')\n",
        "     voice_samples, conditioning_latents = load_voices(use_voices)\n",
        "     gen = tts.tts_with_preset(text, voice_samples=voice_samples, conditioning_latents=conditioning_latents, preset=preset)\n",
        "     torchaudio.save(file_out, gen.squeeze(0).cpu(), sample_rate)\n",
        "     if save_sentences_as_they_render:\n",
        "      files.download(file_out)\n",
        "\n",
        "     # IPython.display.Audio(file_out)\n",
        "\n",
        "     del voice_samples\n",
        "     del conditioning_latents\n",
        "     del gen\n",
        "     del tts\n",
        "     torch.cuda.empty_cache()\n",
        "     import gc\n",
        "     gc.collect()\n",
        "\n",
        "\n",
        "timer_end = time.time()\n",
        "\n",
        "print()\n",
        "\n",
        "if save_txt: append_txt(txt_file, str(timedelta(seconds=timer_end-timer_start)) )\n",
        "if save_txt: append_txt(txt_file, 'Finished at '+timestamp(human_readable=True))\n",
        "if zip_sentences_and_download_all:\n",
        "  zip_file.write(txt_file)\n",
        "files.download(f'{zip_name}.zip')\n",
        "\n",
        "op(c.okb, 'Elapsed', timedelta(seconds=timer_end-timer_start), time=True)\n",
        "op(c.ok, 'FIN.')\n",
        "\n",
        "if end_session_when_done is True: end_session()"
      ],
      "metadata": {
        "id": "DjMTvst0z2ng",
        "colab": {
          "base_uri": "https://localhost:8080/"
        },
        "outputId": "04472de0-8ebb-4ddf-eb9b-2dbe458d8c5f"
      },
      "execution_count": null,
      "outputs": [
        {
          "output_type": "stream",
          "name": "stdout",
          "text": [
            "\u001b[90m2023-09-05 02:07:36 \u001b[96mRun ID:\u001b[0m boskyp\n",
            "\n",
            "\u001b[90m2023-09-05 02:07:36 \u001b[94mProcessing voice files...\u001b[0m\n",
            "\n",
            "\u001b[90m2023-09-05 02:07:36 \u001b[96m1/64 Processing\u001b[0m sarl\n",
            "\u001b[90m2023-09-05 02:07:36 \u001b[96m1/64 Synthesizing\u001b[0m bishop takes bee 1....\n",
            "Generating autoregressive samples..\n"
          ]
        },
        {
          "output_type": "stream",
          "name": "stderr",
          "text": [
            "100%|██████████| 16/16 [03:10<00:00, 11.88s/it]\n"
          ]
        },
        {
          "output_type": "stream",
          "name": "stdout",
          "text": [
            "Computing best candidates using CLVP\n"
          ]
        },
        {
          "output_type": "stream",
          "name": "stderr",
          "text": [
            "100%|██████████| 16/16 [00:13<00:00,  1.16it/s]\n"
          ]
        },
        {
          "output_type": "stream",
          "name": "stdout",
          "text": [
            "Transforming autoregressive outputs into audio..\n"
          ]
        },
        {
          "output_type": "stream",
          "name": "stderr",
          "text": [
            "100%|██████████| 400/400 [00:35<00:00, 11.23it/s]\n"
          ]
        },
        {
          "output_type": "stream",
          "name": "stdout",
          "text": [
            "\u001b[90m2023-09-05 02:11:55 \u001b[92mSaved\u001b[0m fullset/boskyp__sarl_001_bishop_takes_bee_1..wav\n",
            "adding /content/faux_drive/fullset/boskyp__sarl_001_bishop_takes_bee_1..wav to boskyp.zip\n",
            "\n",
            "\u001b[90m2023-09-05 02:11:55 \u001b[96m2/64 Processing\u001b[0m sarl\n",
            "\u001b[90m2023-09-05 02:11:55 \u001b[96m2/64 Synthesizing\u001b[0m bishop takes bee 2....\n",
            "Generating autoregressive samples..\n"
          ]
        },
        {
          "output_type": "stream",
          "name": "stderr",
          "text": [
            "100%|██████████| 16/16 [03:10<00:00, 11.90s/it]\n"
          ]
        },
        {
          "output_type": "stream",
          "name": "stdout",
          "text": [
            "Computing best candidates using CLVP\n"
          ]
        },
        {
          "output_type": "stream",
          "name": "stderr",
          "text": [
            "100%|██████████| 16/16 [00:13<00:00,  1.15it/s]\n"
          ]
        },
        {
          "output_type": "stream",
          "name": "stdout",
          "text": [
            "Transforming autoregressive outputs into audio..\n"
          ]
        },
        {
          "output_type": "stream",
          "name": "stderr",
          "text": [
            "100%|██████████| 400/400 [00:27<00:00, 14.37it/s]\n"
          ]
        },
        {
          "output_type": "stream",
          "name": "stdout",
          "text": [
            "\u001b[90m2023-09-05 02:15:54 \u001b[92mSaved\u001b[0m fullset/boskyp__sarl_002_bishop_takes_bee_2..wav\n",
            "adding /content/faux_drive/fullset/boskyp__sarl_002_bishop_takes_bee_2..wav to boskyp.zip\n",
            "\n",
            "\u001b[90m2023-09-05 02:15:54 \u001b[96m3/64 Processing\u001b[0m sarl\n",
            "\u001b[90m2023-09-05 02:15:54 \u001b[96m3/64 Synthesizing\u001b[0m bishop takes bee 3....\n",
            "Generating autoregressive samples..\n"
          ]
        },
        {
          "output_type": "stream",
          "name": "stderr",
          "text": [
            "100%|██████████| 16/16 [03:06<00:00, 11.66s/it]\n"
          ]
        },
        {
          "output_type": "stream",
          "name": "stdout",
          "text": [
            "Computing best candidates using CLVP\n"
          ]
        },
        {
          "output_type": "stream",
          "name": "stderr",
          "text": [
            "100%|██████████| 16/16 [00:13<00:00,  1.15it/s]\n"
          ]
        },
        {
          "output_type": "stream",
          "name": "stdout",
          "text": [
            "Transforming autoregressive outputs into audio..\n"
          ]
        },
        {
          "output_type": "stream",
          "name": "stderr",
          "text": [
            "100%|██████████| 400/400 [00:35<00:00, 11.24it/s]\n"
          ]
        },
        {
          "output_type": "stream",
          "name": "stdout",
          "text": [
            "\u001b[90m2023-09-05 02:19:57 \u001b[92mSaved\u001b[0m fullset/boskyp__sarl_003_bishop_takes_bee_3..wav\n",
            "adding /content/faux_drive/fullset/boskyp__sarl_003_bishop_takes_bee_3..wav to boskyp.zip\n",
            "\n",
            "\u001b[90m2023-09-05 02:19:57 \u001b[96m4/64 Processing\u001b[0m sarl\n",
            "\u001b[90m2023-09-05 02:19:57 \u001b[96m4/64 Synthesizing\u001b[0m bishop takes bee 4....\n",
            "Generating autoregressive samples..\n"
          ]
        },
        {
          "output_type": "stream",
          "name": "stderr",
          "text": [
            "100%|██████████| 16/16 [03:30<00:00, 13.13s/it]\n"
          ]
        },
        {
          "output_type": "stream",
          "name": "stdout",
          "text": [
            "Computing best candidates using CLVP\n"
          ]
        },
        {
          "output_type": "stream",
          "name": "stderr",
          "text": [
            "100%|██████████| 16/16 [00:13<00:00,  1.15it/s]\n"
          ]
        },
        {
          "output_type": "stream",
          "name": "stdout",
          "text": [
            "Transforming autoregressive outputs into audio..\n"
          ]
        },
        {
          "output_type": "stream",
          "name": "stderr",
          "text": [
            "100%|██████████| 400/400 [00:24<00:00, 16.30it/s]\n"
          ]
        },
        {
          "output_type": "stream",
          "name": "stdout",
          "text": [
            "\u001b[90m2023-09-05 02:24:13 \u001b[92mSaved\u001b[0m fullset/boskyp__sarl_004_bishop_takes_bee_4..wav\n",
            "adding /content/faux_drive/fullset/boskyp__sarl_004_bishop_takes_bee_4..wav to boskyp.zip\n",
            "\n",
            "\u001b[90m2023-09-05 02:24:13 \u001b[96m5/64 Processing\u001b[0m sarl\n",
            "\u001b[90m2023-09-05 02:24:13 \u001b[96m5/64 Synthesizing\u001b[0m bishop takes bee 5....\n",
            "Generating autoregressive samples..\n"
          ]
        },
        {
          "output_type": "stream",
          "name": "stderr",
          "text": [
            "100%|██████████| 16/16 [03:49<00:00, 14.33s/it]\n"
          ]
        },
        {
          "output_type": "stream",
          "name": "stdout",
          "text": [
            "Computing best candidates using CLVP\n"
          ]
        },
        {
          "output_type": "stream",
          "name": "stderr",
          "text": [
            "100%|██████████| 16/16 [00:13<00:00,  1.15it/s]\n"
          ]
        },
        {
          "output_type": "stream",
          "name": "stdout",
          "text": [
            "Transforming autoregressive outputs into audio..\n"
          ]
        },
        {
          "output_type": "stream",
          "name": "stderr",
          "text": [
            "100%|██████████| 400/400 [00:27<00:00, 14.40it/s]\n"
          ]
        },
        {
          "output_type": "stream",
          "name": "stdout",
          "text": [
            "\u001b[90m2023-09-05 02:28:52 \u001b[92mSaved\u001b[0m fullset/boskyp__sarl_005_bishop_takes_bee_5..wav\n",
            "adding /content/faux_drive/fullset/boskyp__sarl_005_bishop_takes_bee_5..wav to boskyp.zip\n",
            "\n",
            "\u001b[90m2023-09-05 02:28:52 \u001b[96m6/64 Processing\u001b[0m sarl\n",
            "\u001b[90m2023-09-05 02:28:52 \u001b[96m6/64 Synthesizing\u001b[0m bishop takes bee 6....\n",
            "Generating autoregressive samples..\n"
          ]
        },
        {
          "output_type": "stream",
          "name": "stderr",
          "text": [
            "100%|██████████| 16/16 [02:56<00:00, 11.05s/it]\n"
          ]
        },
        {
          "output_type": "stream",
          "name": "stdout",
          "text": [
            "Computing best candidates using CLVP\n"
          ]
        },
        {
          "output_type": "stream",
          "name": "stderr",
          "text": [
            "100%|██████████| 16/16 [00:13<00:00,  1.15it/s]\n"
          ]
        },
        {
          "output_type": "stream",
          "name": "stdout",
          "text": [
            "Transforming autoregressive outputs into audio..\n"
          ]
        },
        {
          "output_type": "stream",
          "name": "stderr",
          "text": [
            "100%|██████████| 400/400 [00:31<00:00, 12.58it/s]\n"
          ]
        },
        {
          "output_type": "stream",
          "name": "stdout",
          "text": [
            "\u001b[90m2023-09-05 02:32:41 \u001b[92mSaved\u001b[0m fullset/boskyp__sarl_006_bishop_takes_bee_6..wav\n",
            "adding /content/faux_drive/fullset/boskyp__sarl_006_bishop_takes_bee_6..wav to boskyp.zip\n",
            "\n",
            "\u001b[90m2023-09-05 02:32:41 \u001b[96m7/64 Processing\u001b[0m sarl\n",
            "\u001b[90m2023-09-05 02:32:41 \u001b[96m7/64 Synthesizing\u001b[0m bishop takes bee 7....\n",
            "Generating autoregressive samples..\n"
          ]
        },
        {
          "output_type": "stream",
          "name": "stderr",
          "text": [
            "100%|██████████| 16/16 [02:41<00:00, 10.07s/it]\n"
          ]
        },
        {
          "output_type": "stream",
          "name": "stdout",
          "text": [
            "Computing best candidates using CLVP\n"
          ]
        },
        {
          "output_type": "stream",
          "name": "stderr",
          "text": [
            "100%|██████████| 16/16 [00:13<00:00,  1.15it/s]\n"
          ]
        },
        {
          "output_type": "stream",
          "name": "stdout",
          "text": [
            "Transforming autoregressive outputs into audio..\n"
          ]
        },
        {
          "output_type": "stream",
          "name": "stderr",
          "text": [
            "100%|██████████| 400/400 [00:23<00:00, 17.29it/s]\n"
          ]
        },
        {
          "output_type": "stream",
          "name": "stdout",
          "text": [
            "\u001b[90m2023-09-05 02:36:06 \u001b[92mSaved\u001b[0m fullset/boskyp__sarl_007_bishop_takes_bee_7..wav\n",
            "adding /content/faux_drive/fullset/boskyp__sarl_007_bishop_takes_bee_7..wav to boskyp.zip\n",
            "\n",
            "\u001b[90m2023-09-05 02:36:06 \u001b[96m8/64 Processing\u001b[0m sarl\n",
            "\u001b[90m2023-09-05 02:36:06 \u001b[96m8/64 Synthesizing\u001b[0m bishop takes bee 8....\n",
            "Generating autoregressive samples..\n"
          ]
        },
        {
          "output_type": "stream",
          "name": "stderr",
          "text": [
            "100%|██████████| 16/16 [03:17<00:00, 12.36s/it]\n"
          ]
        },
        {
          "output_type": "stream",
          "name": "stdout",
          "text": [
            "Computing best candidates using CLVP\n"
          ]
        },
        {
          "output_type": "stream",
          "name": "stderr",
          "text": [
            "100%|██████████| 16/16 [00:13<00:00,  1.15it/s]\n"
          ]
        },
        {
          "output_type": "stream",
          "name": "stdout",
          "text": [
            "Transforming autoregressive outputs into audio..\n"
          ]
        },
        {
          "output_type": "stream",
          "name": "stderr",
          "text": [
            "100%|██████████| 400/400 [00:24<00:00, 16.33it/s]\n"
          ]
        },
        {
          "output_type": "stream",
          "name": "stdout",
          "text": [
            "\u001b[90m2023-09-05 02:40:09 \u001b[92mSaved\u001b[0m fullset/boskyp__sarl_008_bishop_takes_bee_8..wav\n",
            "adding /content/faux_drive/fullset/boskyp__sarl_008_bishop_takes_bee_8..wav to boskyp.zip\n",
            "\n",
            "\u001b[90m2023-09-05 02:40:09 \u001b[96m9/64 Processing\u001b[0m sarl\n",
            "\u001b[90m2023-09-05 02:40:09 \u001b[96m9/64 Synthesizing\u001b[0m bishop takes sea 1....\n",
            "Generating autoregressive samples..\n"
          ]
        },
        {
          "output_type": "stream",
          "name": "stderr",
          "text": [
            "100%|██████████| 16/16 [02:52<00:00, 10.79s/it]\n"
          ]
        },
        {
          "output_type": "stream",
          "name": "stdout",
          "text": [
            "Computing best candidates using CLVP\n"
          ]
        },
        {
          "output_type": "stream",
          "name": "stderr",
          "text": [
            "100%|██████████| 16/16 [00:13<00:00,  1.15it/s]\n"
          ]
        },
        {
          "output_type": "stream",
          "name": "stdout",
          "text": [
            "Transforming autoregressive outputs into audio..\n"
          ]
        },
        {
          "output_type": "stream",
          "name": "stderr",
          "text": [
            "100%|██████████| 400/400 [00:31<00:00, 12.57it/s]\n"
          ]
        },
        {
          "output_type": "stream",
          "name": "stdout",
          "text": [
            "\u001b[90m2023-09-05 02:43:54 \u001b[92mSaved\u001b[0m fullset/boskyp__sarl_009_bishop_takes_sea_1..wav\n",
            "adding /content/faux_drive/fullset/boskyp__sarl_009_bishop_takes_sea_1..wav to boskyp.zip\n",
            "\n",
            "\u001b[90m2023-09-05 02:43:54 \u001b[96m10/64 Processing\u001b[0m sarl\n",
            "\u001b[90m2023-09-05 02:43:54 \u001b[96m10/64 Synthesizing\u001b[0m bishop takes sea 2....\n",
            "Generating autoregressive samples..\n"
          ]
        },
        {
          "output_type": "stream",
          "name": "stderr",
          "text": [
            "100%|██████████| 16/16 [03:23<00:00, 12.70s/it]\n"
          ]
        },
        {
          "output_type": "stream",
          "name": "stdout",
          "text": [
            "Computing best candidates using CLVP\n"
          ]
        },
        {
          "output_type": "stream",
          "name": "stderr",
          "text": [
            "100%|██████████| 16/16 [00:13<00:00,  1.16it/s]\n"
          ]
        },
        {
          "output_type": "stream",
          "name": "stdout",
          "text": [
            "Transforming autoregressive outputs into audio..\n"
          ]
        },
        {
          "output_type": "stream",
          "name": "stderr",
          "text": [
            "100%|██████████| 400/400 [00:33<00:00, 11.88it/s]\n"
          ]
        },
        {
          "output_type": "stream",
          "name": "stdout",
          "text": [
            "\u001b[90m2023-09-05 02:48:11 \u001b[92mSaved\u001b[0m fullset/boskyp__sarl_010_bishop_takes_sea_2..wav\n",
            "adding /content/faux_drive/fullset/boskyp__sarl_010_bishop_takes_sea_2..wav to boskyp.zip\n",
            "\n",
            "\u001b[90m2023-09-05 02:48:11 \u001b[96m11/64 Processing\u001b[0m sarl\n",
            "\u001b[90m2023-09-05 02:48:11 \u001b[96m11/64 Synthesizing\u001b[0m bishop takes sea 3....\n",
            "Generating autoregressive samples..\n"
          ]
        },
        {
          "output_type": "stream",
          "name": "stderr",
          "text": [
            "100%|██████████| 16/16 [03:36<00:00, 13.53s/it]\n"
          ]
        },
        {
          "output_type": "stream",
          "name": "stdout",
          "text": [
            "Computing best candidates using CLVP\n"
          ]
        },
        {
          "output_type": "stream",
          "name": "stderr",
          "text": [
            "100%|██████████| 16/16 [00:13<00:00,  1.15it/s]\n"
          ]
        },
        {
          "output_type": "stream",
          "name": "stdout",
          "text": [
            "Transforming autoregressive outputs into audio..\n"
          ]
        },
        {
          "output_type": "stream",
          "name": "stderr",
          "text": [
            "100%|██████████| 400/400 [00:33<00:00, 11.87it/s]\n"
          ]
        },
        {
          "output_type": "stream",
          "name": "stdout",
          "text": [
            "\u001b[90m2023-09-05 02:52:42 \u001b[92mSaved\u001b[0m fullset/boskyp__sarl_011_bishop_takes_sea_3..wav\n",
            "adding /content/faux_drive/fullset/boskyp__sarl_011_bishop_takes_sea_3..wav to boskyp.zip\n",
            "\n",
            "\u001b[90m2023-09-05 02:52:42 \u001b[96m12/64 Processing\u001b[0m sarl\n",
            "\u001b[90m2023-09-05 02:52:42 \u001b[96m12/64 Synthesizing\u001b[0m bishop takes sea 4....\n",
            "Generating autoregressive samples..\n"
          ]
        },
        {
          "output_type": "stream",
          "name": "stderr",
          "text": [
            "100%|██████████| 16/16 [02:59<00:00, 11.25s/it]\n"
          ]
        },
        {
          "output_type": "stream",
          "name": "stdout",
          "text": [
            "Computing best candidates using CLVP\n"
          ]
        },
        {
          "output_type": "stream",
          "name": "stderr",
          "text": [
            "100%|██████████| 16/16 [00:13<00:00,  1.16it/s]\n"
          ]
        },
        {
          "output_type": "stream",
          "name": "stdout",
          "text": [
            "Transforming autoregressive outputs into audio..\n"
          ]
        },
        {
          "output_type": "stream",
          "name": "stderr",
          "text": [
            "100%|██████████| 400/400 [00:25<00:00, 15.81it/s]\n"
          ]
        },
        {
          "output_type": "stream",
          "name": "stdout",
          "text": [
            "\u001b[90m2023-09-05 02:56:27 \u001b[92mSaved\u001b[0m fullset/boskyp__sarl_012_bishop_takes_sea_4..wav\n",
            "adding /content/faux_drive/fullset/boskyp__sarl_012_bishop_takes_sea_4..wav to boskyp.zip\n",
            "\n",
            "\u001b[90m2023-09-05 02:56:27 \u001b[96m13/64 Processing\u001b[0m sarl\n",
            "\u001b[90m2023-09-05 02:56:27 \u001b[96m13/64 Synthesizing\u001b[0m bishop takes sea 5....\n",
            "Generating autoregressive samples..\n"
          ]
        },
        {
          "output_type": "stream",
          "name": "stderr",
          "text": [
            "100%|██████████| 16/16 [02:46<00:00, 10.38s/it]\n"
          ]
        },
        {
          "output_type": "stream",
          "name": "stdout",
          "text": [
            "Computing best candidates using CLVP\n"
          ]
        },
        {
          "output_type": "stream",
          "name": "stderr",
          "text": [
            "100%|██████████| 16/16 [00:13<00:00,  1.15it/s]\n"
          ]
        },
        {
          "output_type": "stream",
          "name": "stdout",
          "text": [
            "Transforming autoregressive outputs into audio..\n"
          ]
        },
        {
          "output_type": "stream",
          "name": "stderr",
          "text": [
            "100%|██████████| 400/400 [00:31<00:00, 12.62it/s]\n"
          ]
        },
        {
          "output_type": "stream",
          "name": "stdout",
          "text": [
            "\u001b[90m2023-09-05 03:00:06 \u001b[92mSaved\u001b[0m fullset/boskyp__sarl_013_bishop_takes_sea_5..wav\n",
            "adding /content/faux_drive/fullset/boskyp__sarl_013_bishop_takes_sea_5..wav to boskyp.zip\n",
            "\n",
            "\u001b[90m2023-09-05 03:00:06 \u001b[96m14/64 Processing\u001b[0m sarl\n",
            "\u001b[90m2023-09-05 03:00:06 \u001b[96m14/64 Synthesizing\u001b[0m bishop takes sea 6....\n",
            "Generating autoregressive samples..\n"
          ]
        },
        {
          "output_type": "stream",
          "name": "stderr",
          "text": [
            "100%|██████████| 16/16 [03:01<00:00, 11.36s/it]\n"
          ]
        },
        {
          "output_type": "stream",
          "name": "stdout",
          "text": [
            "Computing best candidates using CLVP\n"
          ]
        },
        {
          "output_type": "stream",
          "name": "stderr",
          "text": [
            "100%|██████████| 16/16 [00:13<00:00,  1.15it/s]\n"
          ]
        },
        {
          "output_type": "stream",
          "name": "stdout",
          "text": [
            "Transforming autoregressive outputs into audio..\n"
          ]
        },
        {
          "output_type": "stream",
          "name": "stderr",
          "text": [
            "100%|██████████| 400/400 [00:37<00:00, 10.63it/s]\n"
          ]
        },
        {
          "output_type": "stream",
          "name": "stdout",
          "text": [
            "\u001b[90m2023-09-05 03:04:05 \u001b[92mSaved\u001b[0m fullset/boskyp__sarl_014_bishop_takes_sea_6..wav\n",
            "adding /content/faux_drive/fullset/boskyp__sarl_014_bishop_takes_sea_6..wav to boskyp.zip\n",
            "\n",
            "\u001b[90m2023-09-05 03:04:06 \u001b[96m15/64 Processing\u001b[0m sarl\n",
            "\u001b[90m2023-09-05 03:04:06 \u001b[96m15/64 Synthesizing\u001b[0m bishop takes sea 7....\n",
            "Generating autoregressive samples..\n"
          ]
        },
        {
          "output_type": "stream",
          "name": "stderr",
          "text": [
            "100%|██████████| 16/16 [02:54<00:00, 10.93s/it]\n"
          ]
        },
        {
          "output_type": "stream",
          "name": "stdout",
          "text": [
            "Computing best candidates using CLVP\n"
          ]
        },
        {
          "output_type": "stream",
          "name": "stderr",
          "text": [
            "100%|██████████| 16/16 [00:13<00:00,  1.16it/s]\n"
          ]
        },
        {
          "output_type": "stream",
          "name": "stdout",
          "text": [
            "Transforming autoregressive outputs into audio..\n"
          ]
        },
        {
          "output_type": "stream",
          "name": "stderr",
          "text": [
            "100%|██████████| 400/400 [00:32<00:00, 12.18it/s]\n"
          ]
        },
        {
          "output_type": "stream",
          "name": "stdout",
          "text": [
            "\u001b[90m2023-09-05 03:07:53 \u001b[92mSaved\u001b[0m fullset/boskyp__sarl_015_bishop_takes_sea_7..wav\n",
            "adding /content/faux_drive/fullset/boskyp__sarl_015_bishop_takes_sea_7..wav to boskyp.zip\n",
            "\n",
            "\u001b[90m2023-09-05 03:07:54 \u001b[96m16/64 Processing\u001b[0m sarl\n",
            "\u001b[90m2023-09-05 03:07:54 \u001b[96m16/64 Synthesizing\u001b[0m bishop takes sea 8....\n",
            "Generating autoregressive samples..\n"
          ]
        },
        {
          "output_type": "stream",
          "name": "stderr",
          "text": [
            "100%|██████████| 16/16 [02:59<00:00, 11.21s/it]\n"
          ]
        },
        {
          "output_type": "stream",
          "name": "stdout",
          "text": [
            "Computing best candidates using CLVP\n"
          ]
        },
        {
          "output_type": "stream",
          "name": "stderr",
          "text": [
            "100%|██████████| 16/16 [00:13<00:00,  1.15it/s]\n"
          ]
        },
        {
          "output_type": "stream",
          "name": "stdout",
          "text": [
            "Transforming autoregressive outputs into audio..\n"
          ]
        },
        {
          "output_type": "stream",
          "name": "stderr",
          "text": [
            "100%|██████████| 400/400 [00:32<00:00, 12.20it/s]\n"
          ]
        },
        {
          "output_type": "stream",
          "name": "stdout",
          "text": [
            "\u001b[90m2023-09-05 03:11:46 \u001b[92mSaved\u001b[0m fullset/boskyp__sarl_016_bishop_takes_sea_8..wav\n",
            "adding /content/faux_drive/fullset/boskyp__sarl_016_bishop_takes_sea_8..wav to boskyp.zip\n",
            "\n",
            "\u001b[90m2023-09-05 03:11:46 \u001b[96m17/64 Processing\u001b[0m sarl\n",
            "\u001b[90m2023-09-05 03:11:46 \u001b[96m17/64 Synthesizing\u001b[0m bishop takes dee 1....\n",
            "Generating autoregressive samples..\n"
          ]
        },
        {
          "output_type": "stream",
          "name": "stderr",
          "text": [
            "100%|██████████| 16/16 [03:10<00:00, 11.91s/it]\n"
          ]
        },
        {
          "output_type": "stream",
          "name": "stdout",
          "text": [
            "Computing best candidates using CLVP\n"
          ]
        },
        {
          "output_type": "stream",
          "name": "stderr",
          "text": [
            "100%|██████████| 16/16 [00:13<00:00,  1.15it/s]\n"
          ]
        },
        {
          "output_type": "stream",
          "name": "stdout",
          "text": [
            "Transforming autoregressive outputs into audio..\n"
          ]
        },
        {
          "output_type": "stream",
          "name": "stderr",
          "text": [
            "100%|██████████| 400/400 [00:32<00:00, 12.34it/s]\n"
          ]
        },
        {
          "output_type": "stream",
          "name": "stdout",
          "text": [
            "\u001b[90m2023-09-05 03:15:49 \u001b[92mSaved\u001b[0m fullset/boskyp__sarl_017_bishop_takes_dee_1..wav\n",
            "adding /content/faux_drive/fullset/boskyp__sarl_017_bishop_takes_dee_1..wav to boskyp.zip\n",
            "\n",
            "\u001b[90m2023-09-05 03:15:50 \u001b[96m18/64 Processing\u001b[0m sarl\n",
            "\u001b[90m2023-09-05 03:15:50 \u001b[96m18/64 Synthesizing\u001b[0m bishop takes dee 2....\n",
            "Generating autoregressive samples..\n"
          ]
        },
        {
          "output_type": "stream",
          "name": "stderr",
          "text": [
            "100%|██████████| 16/16 [03:06<00:00, 11.67s/it]\n"
          ]
        },
        {
          "output_type": "stream",
          "name": "stdout",
          "text": [
            "Computing best candidates using CLVP\n"
          ]
        },
        {
          "output_type": "stream",
          "name": "stderr",
          "text": [
            "100%|██████████| 16/16 [00:13<00:00,  1.15it/s]\n"
          ]
        },
        {
          "output_type": "stream",
          "name": "stdout",
          "text": [
            "Transforming autoregressive outputs into audio..\n"
          ]
        },
        {
          "output_type": "stream",
          "name": "stderr",
          "text": [
            "100%|██████████| 400/400 [00:32<00:00, 12.18it/s]\n"
          ]
        },
        {
          "output_type": "stream",
          "name": "stdout",
          "text": [
            "\u001b[90m2023-09-05 03:19:49 \u001b[92mSaved\u001b[0m fullset/boskyp__sarl_018_bishop_takes_dee_2..wav\n",
            "adding /content/faux_drive/fullset/boskyp__sarl_018_bishop_takes_dee_2..wav to boskyp.zip\n",
            "\n",
            "\u001b[90m2023-09-05 03:19:50 \u001b[96m19/64 Processing\u001b[0m sarl\n",
            "\u001b[90m2023-09-05 03:19:50 \u001b[96m19/64 Synthesizing\u001b[0m bishop takes dee 3....\n",
            "Generating autoregressive samples..\n"
          ]
        },
        {
          "output_type": "stream",
          "name": "stderr",
          "text": [
            "100%|██████████| 16/16 [03:09<00:00, 11.86s/it]\n"
          ]
        },
        {
          "output_type": "stream",
          "name": "stdout",
          "text": [
            "Computing best candidates using CLVP\n"
          ]
        },
        {
          "output_type": "stream",
          "name": "stderr",
          "text": [
            "100%|██████████| 16/16 [00:13<00:00,  1.15it/s]\n"
          ]
        },
        {
          "output_type": "stream",
          "name": "stdout",
          "text": [
            "Transforming autoregressive outputs into audio..\n"
          ]
        },
        {
          "output_type": "stream",
          "name": "stderr",
          "text": [
            "100%|██████████| 400/400 [00:24<00:00, 16.38it/s]\n"
          ]
        },
        {
          "output_type": "stream",
          "name": "stdout",
          "text": [
            "\u001b[90m2023-09-05 03:23:44 \u001b[92mSaved\u001b[0m fullset/boskyp__sarl_019_bishop_takes_dee_3..wav\n",
            "adding /content/faux_drive/fullset/boskyp__sarl_019_bishop_takes_dee_3..wav to boskyp.zip\n",
            "\n",
            "\u001b[90m2023-09-05 03:23:44 \u001b[96m20/64 Processing\u001b[0m sarl\n",
            "\u001b[90m2023-09-05 03:23:44 \u001b[96m20/64 Synthesizing\u001b[0m bishop takes dee 4....\n",
            "Generating autoregressive samples..\n"
          ]
        },
        {
          "output_type": "stream",
          "name": "stderr",
          "text": [
            "100%|██████████| 16/16 [02:56<00:00, 11.01s/it]\n"
          ]
        },
        {
          "output_type": "stream",
          "name": "stdout",
          "text": [
            "Computing best candidates using CLVP\n"
          ]
        },
        {
          "output_type": "stream",
          "name": "stderr",
          "text": [
            "100%|██████████| 16/16 [00:13<00:00,  1.15it/s]\n"
          ]
        },
        {
          "output_type": "stream",
          "name": "stdout",
          "text": [
            "Transforming autoregressive outputs into audio..\n"
          ]
        },
        {
          "output_type": "stream",
          "name": "stderr",
          "text": [
            "100%|██████████| 400/400 [00:26<00:00, 14.84it/s]\n"
          ]
        },
        {
          "output_type": "stream",
          "name": "stdout",
          "text": [
            "\u001b[90m2023-09-05 03:27:27 \u001b[92mSaved\u001b[0m fullset/boskyp__sarl_020_bishop_takes_dee_4..wav\n",
            "adding /content/faux_drive/fullset/boskyp__sarl_020_bishop_takes_dee_4..wav to boskyp.zip\n",
            "\n",
            "\u001b[90m2023-09-05 03:27:28 \u001b[96m21/64 Processing\u001b[0m sarl\n",
            "\u001b[90m2023-09-05 03:27:28 \u001b[96m21/64 Synthesizing\u001b[0m bishop takes dee 5....\n",
            "Generating autoregressive samples..\n"
          ]
        },
        {
          "output_type": "stream",
          "name": "stderr",
          "text": [
            "100%|██████████| 16/16 [03:15<00:00, 12.19s/it]\n"
          ]
        },
        {
          "output_type": "stream",
          "name": "stdout",
          "text": [
            "Computing best candidates using CLVP\n"
          ]
        },
        {
          "output_type": "stream",
          "name": "stderr",
          "text": [
            "100%|██████████| 16/16 [00:13<00:00,  1.15it/s]\n"
          ]
        },
        {
          "output_type": "stream",
          "name": "stdout",
          "text": [
            "Transforming autoregressive outputs into audio..\n"
          ]
        },
        {
          "output_type": "stream",
          "name": "stderr",
          "text": [
            "100%|██████████| 400/400 [00:31<00:00, 12.61it/s]\n"
          ]
        },
        {
          "output_type": "stream",
          "name": "stdout",
          "text": [
            "\u001b[90m2023-09-05 03:31:35 \u001b[92mSaved\u001b[0m fullset/boskyp__sarl_021_bishop_takes_dee_5..wav\n",
            "adding /content/faux_drive/fullset/boskyp__sarl_021_bishop_takes_dee_5..wav to boskyp.zip\n",
            "\n",
            "\u001b[90m2023-09-05 03:31:35 \u001b[96m22/64 Processing\u001b[0m sarl\n",
            "\u001b[90m2023-09-05 03:31:35 \u001b[96m22/64 Synthesizing\u001b[0m bishop takes dee 6....\n",
            "Generating autoregressive samples..\n"
          ]
        },
        {
          "output_type": "stream",
          "name": "stderr",
          "text": [
            "100%|██████████| 16/16 [03:38<00:00, 13.66s/it]\n"
          ]
        },
        {
          "output_type": "stream",
          "name": "stdout",
          "text": [
            "Computing best candidates using CLVP\n"
          ]
        },
        {
          "output_type": "stream",
          "name": "stderr",
          "text": [
            "100%|██████████| 16/16 [00:13<00:00,  1.16it/s]\n"
          ]
        },
        {
          "output_type": "stream",
          "name": "stdout",
          "text": [
            "Transforming autoregressive outputs into audio..\n"
          ]
        },
        {
          "output_type": "stream",
          "name": "stderr",
          "text": [
            "100%|██████████| 400/400 [00:40<00:00,  9.89it/s]\n"
          ]
        },
        {
          "output_type": "stream",
          "name": "stdout",
          "text": [
            "\u001b[90m2023-09-05 03:36:15 \u001b[92mSaved\u001b[0m fullset/boskyp__sarl_022_bishop_takes_dee_6..wav\n",
            "adding /content/faux_drive/fullset/boskyp__sarl_022_bishop_takes_dee_6..wav to boskyp.zip\n",
            "\n",
            "\u001b[90m2023-09-05 03:36:15 \u001b[96m23/64 Processing\u001b[0m sarl\n",
            "\u001b[90m2023-09-05 03:36:15 \u001b[96m23/64 Synthesizing\u001b[0m bishop takes dee 7....\n",
            "Generating autoregressive samples..\n"
          ]
        },
        {
          "output_type": "stream",
          "name": "stderr",
          "text": [
            "100%|██████████| 16/16 [03:50<00:00, 14.39s/it]\n"
          ]
        },
        {
          "output_type": "stream",
          "name": "stdout",
          "text": [
            "Computing best candidates using CLVP\n"
          ]
        },
        {
          "output_type": "stream",
          "name": "stderr",
          "text": [
            "100%|██████████| 16/16 [00:13<00:00,  1.15it/s]\n"
          ]
        },
        {
          "output_type": "stream",
          "name": "stdout",
          "text": [
            "Transforming autoregressive outputs into audio..\n"
          ]
        },
        {
          "output_type": "stream",
          "name": "stderr",
          "text": [
            "100%|██████████| 400/400 [00:34<00:00, 11.53it/s]\n"
          ]
        },
        {
          "output_type": "stream",
          "name": "stdout",
          "text": [
            "\u001b[90m2023-09-05 03:41:01 \u001b[92mSaved\u001b[0m fullset/boskyp__sarl_023_bishop_takes_dee_7..wav\n",
            "adding /content/faux_drive/fullset/boskyp__sarl_023_bishop_takes_dee_7..wav to boskyp.zip\n",
            "\n",
            "\u001b[90m2023-09-05 03:41:01 \u001b[96m24/64 Processing\u001b[0m sarl\n",
            "\u001b[90m2023-09-05 03:41:01 \u001b[96m24/64 Synthesizing\u001b[0m bishop takes dee 8....\n",
            "Generating autoregressive samples..\n"
          ]
        },
        {
          "output_type": "stream",
          "name": "stderr",
          "text": [
            "100%|██████████| 16/16 [03:32<00:00, 13.31s/it]\n"
          ]
        },
        {
          "output_type": "stream",
          "name": "stdout",
          "text": [
            "Computing best candidates using CLVP\n"
          ]
        },
        {
          "output_type": "stream",
          "name": "stderr",
          "text": [
            "100%|██████████| 16/16 [00:13<00:00,  1.16it/s]\n"
          ]
        },
        {
          "output_type": "stream",
          "name": "stdout",
          "text": [
            "Transforming autoregressive outputs into audio..\n"
          ]
        },
        {
          "output_type": "stream",
          "name": "stderr",
          "text": [
            "100%|██████████| 400/400 [00:25<00:00, 15.85it/s]\n"
          ]
        },
        {
          "output_type": "stream",
          "name": "stdout",
          "text": [
            "\u001b[90m2023-09-05 03:45:19 \u001b[92mSaved\u001b[0m fullset/boskyp__sarl_024_bishop_takes_dee_8..wav\n",
            "adding /content/faux_drive/fullset/boskyp__sarl_024_bishop_takes_dee_8..wav to boskyp.zip\n",
            "\n",
            "\u001b[90m2023-09-05 03:45:20 \u001b[96m25/64 Processing\u001b[0m sarl\n",
            "\u001b[90m2023-09-05 03:45:20 \u001b[96m25/64 Synthesizing\u001b[0m bishop takes ee 1....\n",
            "Generating autoregressive samples..\n"
          ]
        },
        {
          "output_type": "stream",
          "name": "stderr",
          "text": [
            "100%|██████████| 16/16 [03:09<00:00, 11.86s/it]\n"
          ]
        },
        {
          "output_type": "stream",
          "name": "stdout",
          "text": [
            "Computing best candidates using CLVP\n"
          ]
        },
        {
          "output_type": "stream",
          "name": "stderr",
          "text": [
            "100%|██████████| 16/16 [00:13<00:00,  1.16it/s]\n"
          ]
        },
        {
          "output_type": "stream",
          "name": "stdout",
          "text": [
            "Transforming autoregressive outputs into audio..\n"
          ]
        },
        {
          "output_type": "stream",
          "name": "stderr",
          "text": [
            "100%|██████████| 400/400 [00:31<00:00, 12.62it/s]\n"
          ]
        },
        {
          "output_type": "stream",
          "name": "stdout",
          "text": [
            "\u001b[90m2023-09-05 03:49:21 \u001b[92mSaved\u001b[0m fullset/boskyp__sarl_025_bishop_takes_ee_1..wav\n",
            "adding /content/faux_drive/fullset/boskyp__sarl_025_bishop_takes_ee_1..wav to boskyp.zip\n",
            "\n",
            "\u001b[90m2023-09-05 03:49:21 \u001b[96m26/64 Processing\u001b[0m sarl\n",
            "\u001b[90m2023-09-05 03:49:21 \u001b[96m26/64 Synthesizing\u001b[0m bishop takes ee 2....\n",
            "Generating autoregressive samples..\n"
          ]
        },
        {
          "output_type": "stream",
          "name": "stderr",
          "text": [
            "100%|██████████| 16/16 [03:19<00:00, 12.48s/it]\n"
          ]
        },
        {
          "output_type": "stream",
          "name": "stdout",
          "text": [
            "Computing best candidates using CLVP\n"
          ]
        },
        {
          "output_type": "stream",
          "name": "stderr",
          "text": [
            "100%|██████████| 16/16 [00:13<00:00,  1.15it/s]\n"
          ]
        },
        {
          "output_type": "stream",
          "name": "stdout",
          "text": [
            "Transforming autoregressive outputs into audio..\n"
          ]
        },
        {
          "output_type": "stream",
          "name": "stderr",
          "text": [
            "100%|██████████| 400/400 [00:25<00:00, 15.89it/s]\n"
          ]
        },
        {
          "output_type": "stream",
          "name": "stdout",
          "text": [
            "\u001b[90m2023-09-05 03:53:27 \u001b[92mSaved\u001b[0m fullset/boskyp__sarl_026_bishop_takes_ee_2..wav\n",
            "adding /content/faux_drive/fullset/boskyp__sarl_026_bishop_takes_ee_2..wav to boskyp.zip\n",
            "\n",
            "\u001b[90m2023-09-05 03:53:27 \u001b[96m27/64 Processing\u001b[0m sarl\n",
            "\u001b[90m2023-09-05 03:53:27 \u001b[96m27/64 Synthesizing\u001b[0m bishop takes ee 3....\n",
            "Generating autoregressive samples..\n"
          ]
        },
        {
          "output_type": "stream",
          "name": "stderr",
          "text": [
            "100%|██████████| 16/16 [03:34<00:00, 13.40s/it]\n"
          ]
        },
        {
          "output_type": "stream",
          "name": "stdout",
          "text": [
            "Computing best candidates using CLVP\n"
          ]
        },
        {
          "output_type": "stream",
          "name": "stderr",
          "text": [
            "100%|██████████| 16/16 [00:13<00:00,  1.15it/s]\n"
          ]
        },
        {
          "output_type": "stream",
          "name": "stdout",
          "text": [
            "Transforming autoregressive outputs into audio..\n"
          ]
        },
        {
          "output_type": "stream",
          "name": "stderr",
          "text": [
            "100%|██████████| 400/400 [00:40<00:00,  9.78it/s]\n"
          ]
        },
        {
          "output_type": "stream",
          "name": "stdout",
          "text": [
            "\u001b[90m2023-09-05 03:58:02 \u001b[92mSaved\u001b[0m fullset/boskyp__sarl_027_bishop_takes_ee_3..wav\n",
            "adding /content/faux_drive/fullset/boskyp__sarl_027_bishop_takes_ee_3..wav to boskyp.zip\n",
            "\n",
            "\u001b[90m2023-09-05 03:58:02 \u001b[96m28/64 Processing\u001b[0m sarl\n",
            "\u001b[90m2023-09-05 03:58:02 \u001b[96m28/64 Synthesizing\u001b[0m bishop takes ee 4....\n",
            "Generating autoregressive samples..\n"
          ]
        },
        {
          "output_type": "stream",
          "name": "stderr",
          "text": [
            "100%|██████████| 16/16 [03:48<00:00, 14.27s/it]\n"
          ]
        },
        {
          "output_type": "stream",
          "name": "stdout",
          "text": [
            "Computing best candidates using CLVP\n"
          ]
        },
        {
          "output_type": "stream",
          "name": "stderr",
          "text": [
            "100%|██████████| 16/16 [00:13<00:00,  1.16it/s]\n"
          ]
        },
        {
          "output_type": "stream",
          "name": "stdout",
          "text": [
            "Transforming autoregressive outputs into audio..\n"
          ]
        },
        {
          "output_type": "stream",
          "name": "stderr",
          "text": [
            "100%|██████████| 400/400 [00:31<00:00, 12.57it/s]\n"
          ]
        },
        {
          "output_type": "stream",
          "name": "stdout",
          "text": [
            "\u001b[90m2023-09-05 04:02:43 \u001b[92mSaved\u001b[0m fullset/boskyp__sarl_028_bishop_takes_ee_4..wav\n",
            "adding /content/faux_drive/fullset/boskyp__sarl_028_bishop_takes_ee_4..wav to boskyp.zip\n",
            "\n",
            "\u001b[90m2023-09-05 04:02:43 \u001b[96m29/64 Processing\u001b[0m sarl\n",
            "\u001b[90m2023-09-05 04:02:43 \u001b[96m29/64 Synthesizing\u001b[0m bishop takes ee 5....\n",
            "Generating autoregressive samples..\n"
          ]
        },
        {
          "output_type": "stream",
          "name": "stderr",
          "text": [
            "100%|██████████| 16/16 [03:18<00:00, 12.39s/it]\n"
          ]
        },
        {
          "output_type": "stream",
          "name": "stdout",
          "text": [
            "Computing best candidates using CLVP\n"
          ]
        },
        {
          "output_type": "stream",
          "name": "stderr",
          "text": [
            "100%|██████████| 16/16 [00:13<00:00,  1.15it/s]\n"
          ]
        },
        {
          "output_type": "stream",
          "name": "stdout",
          "text": [
            "Transforming autoregressive outputs into audio..\n"
          ]
        },
        {
          "output_type": "stream",
          "name": "stderr",
          "text": [
            "100%|██████████| 400/400 [00:24<00:00, 16.25it/s]\n"
          ]
        },
        {
          "output_type": "stream",
          "name": "stdout",
          "text": [
            "\u001b[90m2023-09-05 04:06:46 \u001b[92mSaved\u001b[0m fullset/boskyp__sarl_029_bishop_takes_ee_5..wav\n",
            "adding /content/faux_drive/fullset/boskyp__sarl_029_bishop_takes_ee_5..wav to boskyp.zip\n",
            "\n",
            "\u001b[90m2023-09-05 04:06:46 \u001b[96m30/64 Processing\u001b[0m sarl\n",
            "\u001b[90m2023-09-05 04:06:46 \u001b[96m30/64 Synthesizing\u001b[0m bishop takes ee 6....\n",
            "Generating autoregressive samples..\n"
          ]
        },
        {
          "output_type": "stream",
          "name": "stderr",
          "text": [
            "100%|██████████| 16/16 [03:53<00:00, 14.57s/it]\n"
          ]
        },
        {
          "output_type": "stream",
          "name": "stdout",
          "text": [
            "Computing best candidates using CLVP\n"
          ]
        },
        {
          "output_type": "stream",
          "name": "stderr",
          "text": [
            "100%|██████████| 16/16 [00:13<00:00,  1.15it/s]\n"
          ]
        },
        {
          "output_type": "stream",
          "name": "stdout",
          "text": [
            "Transforming autoregressive outputs into audio..\n"
          ]
        },
        {
          "output_type": "stream",
          "name": "stderr",
          "text": [
            "100%|██████████| 400/400 [00:37<00:00, 10.68it/s]\n"
          ]
        },
        {
          "output_type": "stream",
          "name": "stdout",
          "text": [
            "\u001b[90m2023-09-05 04:11:37 \u001b[92mSaved\u001b[0m fullset/boskyp__sarl_030_bishop_takes_ee_6..wav\n",
            "adding /content/faux_drive/fullset/boskyp__sarl_030_bishop_takes_ee_6..wav to boskyp.zip\n",
            "\n",
            "\u001b[90m2023-09-05 04:11:37 \u001b[96m31/64 Processing\u001b[0m sarl\n",
            "\u001b[90m2023-09-05 04:11:37 \u001b[96m31/64 Synthesizing\u001b[0m bishop takes ee 7....\n",
            "Generating autoregressive samples..\n"
          ]
        },
        {
          "output_type": "stream",
          "name": "stderr",
          "text": [
            "100%|██████████| 16/16 [03:12<00:00, 12.01s/it]\n"
          ]
        },
        {
          "output_type": "stream",
          "name": "stdout",
          "text": [
            "Computing best candidates using CLVP\n"
          ]
        },
        {
          "output_type": "stream",
          "name": "stderr",
          "text": [
            "100%|██████████| 16/16 [00:13<00:00,  1.15it/s]\n"
          ]
        },
        {
          "output_type": "stream",
          "name": "stdout",
          "text": [
            "Transforming autoregressive outputs into audio..\n"
          ]
        },
        {
          "output_type": "stream",
          "name": "stderr",
          "text": [
            "100%|██████████| 400/400 [00:32<00:00, 12.41it/s]\n"
          ]
        },
        {
          "output_type": "stream",
          "name": "stdout",
          "text": [
            "\u001b[90m2023-09-05 04:15:41 \u001b[92mSaved\u001b[0m fullset/boskyp__sarl_031_bishop_takes_ee_7..wav\n",
            "adding /content/faux_drive/fullset/boskyp__sarl_031_bishop_takes_ee_7..wav to boskyp.zip\n",
            "\n",
            "\u001b[90m2023-09-05 04:15:42 \u001b[96m32/64 Processing\u001b[0m sarl\n",
            "\u001b[90m2023-09-05 04:15:42 \u001b[96m32/64 Synthesizing\u001b[0m bishop takes ee 8....\n",
            "Generating autoregressive samples..\n"
          ]
        },
        {
          "output_type": "stream",
          "name": "stderr",
          "text": [
            "100%|██████████| 16/16 [03:16<00:00, 12.28s/it]\n"
          ]
        },
        {
          "output_type": "stream",
          "name": "stdout",
          "text": [
            "Computing best candidates using CLVP\n"
          ]
        },
        {
          "output_type": "stream",
          "name": "stderr",
          "text": [
            "100%|██████████| 16/16 [00:13<00:00,  1.16it/s]\n"
          ]
        },
        {
          "output_type": "stream",
          "name": "stdout",
          "text": [
            "Transforming autoregressive outputs into audio..\n"
          ]
        },
        {
          "output_type": "stream",
          "name": "stderr",
          "text": [
            "100%|██████████| 400/400 [00:31<00:00, 12.69it/s]\n"
          ]
        },
        {
          "output_type": "stream",
          "name": "stdout",
          "text": [
            "\u001b[90m2023-09-05 04:19:49 \u001b[92mSaved\u001b[0m fullset/boskyp__sarl_032_bishop_takes_ee_8..wav\n",
            "adding /content/faux_drive/fullset/boskyp__sarl_032_bishop_takes_ee_8..wav to boskyp.zip\n",
            "\n",
            "\u001b[90m2023-09-05 04:19:50 \u001b[96m33/64 Processing\u001b[0m sarl\n",
            "\u001b[90m2023-09-05 04:19:50 \u001b[96m33/64 Synthesizing\u001b[0m bishop takes eff 1....\n",
            "Generating autoregressive samples..\n"
          ]
        },
        {
          "output_type": "stream",
          "name": "stderr",
          "text": [
            "100%|██████████| 16/16 [03:41<00:00, 13.86s/it]\n"
          ]
        },
        {
          "output_type": "stream",
          "name": "stdout",
          "text": [
            "Computing best candidates using CLVP\n"
          ]
        },
        {
          "output_type": "stream",
          "name": "stderr",
          "text": [
            "100%|██████████| 16/16 [00:13<00:00,  1.15it/s]\n"
          ]
        },
        {
          "output_type": "stream",
          "name": "stdout",
          "text": [
            "Transforming autoregressive outputs into audio..\n"
          ]
        },
        {
          "output_type": "stream",
          "name": "stderr",
          "text": [
            "100%|██████████| 400/400 [00:25<00:00, 15.85it/s]\n"
          ]
        },
        {
          "output_type": "stream",
          "name": "stdout",
          "text": [
            "\u001b[90m2023-09-05 04:24:17 \u001b[92mSaved\u001b[0m fullset/boskyp__sarl_033_bishop_takes_eff_1..wav\n",
            "adding /content/faux_drive/fullset/boskyp__sarl_033_bishop_takes_eff_1..wav to boskyp.zip\n",
            "\n",
            "\u001b[90m2023-09-05 04:24:17 \u001b[96m34/64 Processing\u001b[0m sarl\n",
            "\u001b[90m2023-09-05 04:24:17 \u001b[96m34/64 Synthesizing\u001b[0m bishop takes eff 2....\n",
            "Generating autoregressive samples..\n"
          ]
        },
        {
          "output_type": "stream",
          "name": "stderr",
          "text": [
            "100%|██████████| 16/16 [03:09<00:00, 11.86s/it]\n"
          ]
        },
        {
          "output_type": "stream",
          "name": "stdout",
          "text": [
            "Computing best candidates using CLVP\n"
          ]
        },
        {
          "output_type": "stream",
          "name": "stderr",
          "text": [
            "100%|██████████| 16/16 [00:13<00:00,  1.15it/s]\n"
          ]
        },
        {
          "output_type": "stream",
          "name": "stdout",
          "text": [
            "Transforming autoregressive outputs into audio..\n"
          ]
        },
        {
          "output_type": "stream",
          "name": "stderr",
          "text": [
            "100%|██████████| 400/400 [00:24<00:00, 16.40it/s]\n"
          ]
        },
        {
          "output_type": "stream",
          "name": "stdout",
          "text": [
            "\u001b[90m2023-09-05 04:28:11 \u001b[92mSaved\u001b[0m fullset/boskyp__sarl_034_bishop_takes_eff_2..wav\n",
            "adding /content/faux_drive/fullset/boskyp__sarl_034_bishop_takes_eff_2..wav to boskyp.zip\n",
            "\n",
            "\u001b[90m2023-09-05 04:28:11 \u001b[96m35/64 Processing\u001b[0m sarl\n",
            "\u001b[90m2023-09-05 04:28:11 \u001b[96m35/64 Synthesizing\u001b[0m bishop takes eff 3....\n",
            "Generating autoregressive samples..\n"
          ]
        },
        {
          "output_type": "stream",
          "name": "stderr",
          "text": [
            "100%|██████████| 16/16 [03:45<00:00, 14.06s/it]\n"
          ]
        },
        {
          "output_type": "stream",
          "name": "stdout",
          "text": [
            "Computing best candidates using CLVP\n"
          ]
        },
        {
          "output_type": "stream",
          "name": "stderr",
          "text": [
            "100%|██████████| 16/16 [00:13<00:00,  1.14it/s]\n"
          ]
        },
        {
          "output_type": "stream",
          "name": "stdout",
          "text": [
            "Transforming autoregressive outputs into audio..\n"
          ]
        },
        {
          "output_type": "stream",
          "name": "stderr",
          "text": [
            "100%|██████████| 400/400 [00:31<00:00, 12.63it/s]\n"
          ]
        },
        {
          "output_type": "stream",
          "name": "stdout",
          "text": [
            "\u001b[90m2023-09-05 04:32:48 \u001b[92mSaved\u001b[0m fullset/boskyp__sarl_035_bishop_takes_eff_3..wav\n",
            "adding /content/faux_drive/fullset/boskyp__sarl_035_bishop_takes_eff_3..wav to boskyp.zip\n",
            "\n",
            "\u001b[90m2023-09-05 04:32:49 \u001b[96m36/64 Processing\u001b[0m sarl\n",
            "\u001b[90m2023-09-05 04:32:49 \u001b[96m36/64 Synthesizing\u001b[0m bishop takes eff 4....\n",
            "Generating autoregressive samples..\n"
          ]
        },
        {
          "output_type": "stream",
          "name": "stderr",
          "text": [
            "100%|██████████| 16/16 [03:18<00:00, 12.40s/it]\n"
          ]
        },
        {
          "output_type": "stream",
          "name": "stdout",
          "text": [
            "Computing best candidates using CLVP\n"
          ]
        },
        {
          "output_type": "stream",
          "name": "stderr",
          "text": [
            "100%|██████████| 16/16 [00:13<00:00,  1.15it/s]\n"
          ]
        },
        {
          "output_type": "stream",
          "name": "stdout",
          "text": [
            "Transforming autoregressive outputs into audio..\n"
          ]
        },
        {
          "output_type": "stream",
          "name": "stderr",
          "text": [
            "100%|██████████| 400/400 [00:33<00:00, 11.91it/s]\n"
          ]
        },
        {
          "output_type": "stream",
          "name": "stdout",
          "text": [
            "\u001b[90m2023-09-05 04:37:00 \u001b[92mSaved\u001b[0m fullset/boskyp__sarl_036_bishop_takes_eff_4..wav\n",
            "adding /content/faux_drive/fullset/boskyp__sarl_036_bishop_takes_eff_4..wav to boskyp.zip\n",
            "\n",
            "\u001b[90m2023-09-05 04:37:01 \u001b[96m37/64 Processing\u001b[0m sarl\n",
            "\u001b[90m2023-09-05 04:37:01 \u001b[96m37/64 Synthesizing\u001b[0m bishop takes eff 5....\n",
            "Generating autoregressive samples..\n"
          ]
        },
        {
          "output_type": "stream",
          "name": "stderr",
          "text": [
            "100%|██████████| 16/16 [03:10<00:00, 11.92s/it]\n"
          ]
        },
        {
          "output_type": "stream",
          "name": "stdout",
          "text": [
            "Computing best candidates using CLVP\n"
          ]
        },
        {
          "output_type": "stream",
          "name": "stderr",
          "text": [
            "100%|██████████| 16/16 [00:13<00:00,  1.15it/s]\n"
          ]
        },
        {
          "output_type": "stream",
          "name": "stdout",
          "text": [
            "Transforming autoregressive outputs into audio..\n"
          ]
        },
        {
          "output_type": "stream",
          "name": "stderr",
          "text": [
            "100%|██████████| 400/400 [00:37<00:00, 10.67it/s]\n"
          ]
        },
        {
          "output_type": "stream",
          "name": "stdout",
          "text": [
            "\u001b[90m2023-09-05 04:41:09 \u001b[92mSaved\u001b[0m fullset/boskyp__sarl_037_bishop_takes_eff_5..wav\n",
            "adding /content/faux_drive/fullset/boskyp__sarl_037_bishop_takes_eff_5..wav to boskyp.zip\n",
            "\n",
            "\u001b[90m2023-09-05 04:41:09 \u001b[96m38/64 Processing\u001b[0m sarl\n",
            "\u001b[90m2023-09-05 04:41:09 \u001b[96m38/64 Synthesizing\u001b[0m bishop takes eff 6....\n",
            "Generating autoregressive samples..\n"
          ]
        },
        {
          "output_type": "stream",
          "name": "stderr",
          "text": [
            "100%|██████████| 16/16 [03:38<00:00, 13.64s/it]\n"
          ]
        },
        {
          "output_type": "stream",
          "name": "stdout",
          "text": [
            "Computing best candidates using CLVP\n"
          ]
        },
        {
          "output_type": "stream",
          "name": "stderr",
          "text": [
            "100%|██████████| 16/16 [00:13<00:00,  1.15it/s]\n"
          ]
        },
        {
          "output_type": "stream",
          "name": "stdout",
          "text": [
            "Transforming autoregressive outputs into audio..\n"
          ]
        },
        {
          "output_type": "stream",
          "name": "stderr",
          "text": [
            "100%|██████████| 400/400 [00:24<00:00, 16.41it/s]\n"
          ]
        },
        {
          "output_type": "stream",
          "name": "stdout",
          "text": [
            "\u001b[90m2023-09-05 04:45:32 \u001b[92mSaved\u001b[0m fullset/boskyp__sarl_038_bishop_takes_eff_6..wav\n",
            "adding /content/faux_drive/fullset/boskyp__sarl_038_bishop_takes_eff_6..wav to boskyp.zip\n",
            "\n",
            "\u001b[90m2023-09-05 04:45:32 \u001b[96m39/64 Processing\u001b[0m sarl\n",
            "\u001b[90m2023-09-05 04:45:32 \u001b[96m39/64 Synthesizing\u001b[0m bishop takes eff 7....\n",
            "Generating autoregressive samples..\n"
          ]
        },
        {
          "output_type": "stream",
          "name": "stderr",
          "text": [
            "100%|██████████| 16/16 [03:14<00:00, 12.18s/it]\n"
          ]
        },
        {
          "output_type": "stream",
          "name": "stdout",
          "text": [
            "Computing best candidates using CLVP\n"
          ]
        },
        {
          "output_type": "stream",
          "name": "stderr",
          "text": [
            "100%|██████████| 16/16 [00:13<00:00,  1.15it/s]\n"
          ]
        },
        {
          "output_type": "stream",
          "name": "stdout",
          "text": [
            "Transforming autoregressive outputs into audio..\n"
          ]
        },
        {
          "output_type": "stream",
          "name": "stderr",
          "text": [
            "100%|██████████| 400/400 [00:23<00:00, 16.92it/s]\n"
          ]
        },
        {
          "output_type": "stream",
          "name": "stdout",
          "text": [
            "\u001b[90m2023-09-05 04:49:31 \u001b[92mSaved\u001b[0m fullset/boskyp__sarl_039_bishop_takes_eff_7..wav\n",
            "adding /content/faux_drive/fullset/boskyp__sarl_039_bishop_takes_eff_7..wav to boskyp.zip\n",
            "\n",
            "\u001b[90m2023-09-05 04:49:31 \u001b[96m40/64 Processing\u001b[0m sarl\n",
            "\u001b[90m2023-09-05 04:49:31 \u001b[96m40/64 Synthesizing\u001b[0m bishop takes eff 8....\n",
            "Generating autoregressive samples..\n"
          ]
        },
        {
          "output_type": "stream",
          "name": "stderr",
          "text": [
            "100%|██████████| 16/16 [03:24<00:00, 12.81s/it]\n"
          ]
        },
        {
          "output_type": "stream",
          "name": "stdout",
          "text": [
            "Computing best candidates using CLVP\n"
          ]
        },
        {
          "output_type": "stream",
          "name": "stderr",
          "text": [
            "100%|██████████| 16/16 [00:13<00:00,  1.15it/s]\n"
          ]
        },
        {
          "output_type": "stream",
          "name": "stdout",
          "text": [
            "Transforming autoregressive outputs into audio..\n"
          ]
        },
        {
          "output_type": "stream",
          "name": "stderr",
          "text": [
            "100%|██████████| 400/400 [00:27<00:00, 14.43it/s]\n"
          ]
        },
        {
          "output_type": "stream",
          "name": "stdout",
          "text": [
            "\u001b[90m2023-09-05 04:53:44 \u001b[92mSaved\u001b[0m fullset/boskyp__sarl_040_bishop_takes_eff_8..wav\n",
            "adding /content/faux_drive/fullset/boskyp__sarl_040_bishop_takes_eff_8..wav to boskyp.zip\n",
            "\n",
            "\u001b[90m2023-09-05 04:53:44 \u001b[96m41/64 Processing\u001b[0m sarl\n",
            "\u001b[90m2023-09-05 04:53:44 \u001b[96m41/64 Synthesizing\u001b[0m bishop takes jee 1....\n",
            "Generating autoregressive samples..\n"
          ]
        },
        {
          "output_type": "stream",
          "name": "stderr",
          "text": [
            "100%|██████████| 16/16 [03:04<00:00, 11.52s/it]\n"
          ]
        },
        {
          "output_type": "stream",
          "name": "stdout",
          "text": [
            "Computing best candidates using CLVP\n"
          ]
        },
        {
          "output_type": "stream",
          "name": "stderr",
          "text": [
            "100%|██████████| 16/16 [00:13<00:00,  1.15it/s]\n"
          ]
        },
        {
          "output_type": "stream",
          "name": "stdout",
          "text": [
            "Transforming autoregressive outputs into audio..\n"
          ]
        },
        {
          "output_type": "stream",
          "name": "stderr",
          "text": [
            "100%|██████████| 400/400 [00:31<00:00, 12.63it/s]\n"
          ]
        },
        {
          "output_type": "stream",
          "name": "stdout",
          "text": [
            "\u001b[90m2023-09-05 04:57:41 \u001b[92mSaved\u001b[0m fullset/boskyp__sarl_041_bishop_takes_jee_1..wav\n",
            "adding /content/faux_drive/fullset/boskyp__sarl_041_bishop_takes_jee_1..wav to boskyp.zip\n",
            "\n",
            "\u001b[90m2023-09-05 04:57:41 \u001b[96m42/64 Processing\u001b[0m sarl\n",
            "\u001b[90m2023-09-05 04:57:41 \u001b[96m42/64 Synthesizing\u001b[0m bishop takes jee 2....\n",
            "Generating autoregressive samples..\n"
          ]
        },
        {
          "output_type": "stream",
          "name": "stderr",
          "text": [
            "100%|██████████| 16/16 [03:15<00:00, 12.23s/it]\n"
          ]
        },
        {
          "output_type": "stream",
          "name": "stdout",
          "text": [
            "Computing best candidates using CLVP\n"
          ]
        },
        {
          "output_type": "stream",
          "name": "stderr",
          "text": [
            "100%|██████████| 16/16 [00:13<00:00,  1.15it/s]\n"
          ]
        },
        {
          "output_type": "stream",
          "name": "stdout",
          "text": [
            "Transforming autoregressive outputs into audio..\n"
          ]
        },
        {
          "output_type": "stream",
          "name": "stderr",
          "text": [
            "100%|██████████| 400/400 [00:33<00:00, 11.94it/s]\n"
          ]
        },
        {
          "output_type": "stream",
          "name": "stdout",
          "text": [
            "\u001b[90m2023-09-05 05:01:51 \u001b[92mSaved\u001b[0m fullset/boskyp__sarl_042_bishop_takes_jee_2..wav\n",
            "adding /content/faux_drive/fullset/boskyp__sarl_042_bishop_takes_jee_2..wav to boskyp.zip\n",
            "\n",
            "\u001b[90m2023-09-05 05:01:51 \u001b[96m43/64 Processing\u001b[0m sarl\n",
            "\u001b[90m2023-09-05 05:01:51 \u001b[96m43/64 Synthesizing\u001b[0m bishop takes jee 3....\n",
            "Generating autoregressive samples..\n"
          ]
        },
        {
          "output_type": "stream",
          "name": "stderr",
          "text": [
            "100%|██████████| 16/16 [03:15<00:00, 12.20s/it]\n"
          ]
        },
        {
          "output_type": "stream",
          "name": "stdout",
          "text": [
            "Computing best candidates using CLVP\n"
          ]
        },
        {
          "output_type": "stream",
          "name": "stderr",
          "text": [
            "100%|██████████| 16/16 [00:13<00:00,  1.14it/s]\n"
          ]
        },
        {
          "output_type": "stream",
          "name": "stdout",
          "text": [
            "Transforming autoregressive outputs into audio..\n"
          ]
        },
        {
          "output_type": "stream",
          "name": "stderr",
          "text": [
            "100%|██████████| 400/400 [00:24<00:00, 16.47it/s]\n"
          ]
        },
        {
          "output_type": "stream",
          "name": "stdout",
          "text": [
            "\u001b[90m2023-09-05 05:05:51 \u001b[92mSaved\u001b[0m fullset/boskyp__sarl_043_bishop_takes_jee_3..wav\n",
            "adding /content/faux_drive/fullset/boskyp__sarl_043_bishop_takes_jee_3..wav to boskyp.zip\n",
            "\n",
            "\u001b[90m2023-09-05 05:05:52 \u001b[96m44/64 Processing\u001b[0m sarl\n",
            "\u001b[90m2023-09-05 05:05:52 \u001b[96m44/64 Synthesizing\u001b[0m bishop takes jee 4....\n",
            "Generating autoregressive samples..\n"
          ]
        },
        {
          "output_type": "stream",
          "name": "stderr",
          "text": [
            "100%|██████████| 16/16 [03:37<00:00, 13.62s/it]\n"
          ]
        },
        {
          "output_type": "stream",
          "name": "stdout",
          "text": [
            "Computing best candidates using CLVP\n"
          ]
        },
        {
          "output_type": "stream",
          "name": "stderr",
          "text": [
            "100%|██████████| 16/16 [00:13<00:00,  1.15it/s]\n"
          ]
        },
        {
          "output_type": "stream",
          "name": "stdout",
          "text": [
            "Transforming autoregressive outputs into audio..\n"
          ]
        },
        {
          "output_type": "stream",
          "name": "stderr",
          "text": [
            "100%|██████████| 400/400 [00:26<00:00, 14.98it/s]\n"
          ]
        },
        {
          "output_type": "stream",
          "name": "stdout",
          "text": [
            "\u001b[90m2023-09-05 05:10:16 \u001b[92mSaved\u001b[0m fullset/boskyp__sarl_044_bishop_takes_jee_4..wav\n",
            "adding /content/faux_drive/fullset/boskyp__sarl_044_bishop_takes_jee_4..wav to boskyp.zip\n",
            "\n",
            "\u001b[90m2023-09-05 05:10:17 \u001b[96m45/64 Processing\u001b[0m sarl\n",
            "\u001b[90m2023-09-05 05:10:17 \u001b[96m45/64 Synthesizing\u001b[0m bishop takes jee 5....\n",
            "Generating autoregressive samples..\n"
          ]
        },
        {
          "output_type": "stream",
          "name": "stderr",
          "text": [
            "100%|██████████| 16/16 [03:46<00:00, 14.13s/it]\n"
          ]
        },
        {
          "output_type": "stream",
          "name": "stdout",
          "text": [
            "Computing best candidates using CLVP\n"
          ]
        },
        {
          "output_type": "stream",
          "name": "stderr",
          "text": [
            "100%|██████████| 16/16 [00:13<00:00,  1.15it/s]\n"
          ]
        },
        {
          "output_type": "stream",
          "name": "stdout",
          "text": [
            "Transforming autoregressive outputs into audio..\n"
          ]
        },
        {
          "output_type": "stream",
          "name": "stderr",
          "text": [
            "100%|██████████| 400/400 [00:25<00:00, 15.83it/s]\n"
          ]
        },
        {
          "output_type": "stream",
          "name": "stdout",
          "text": [
            "\u001b[90m2023-09-05 05:14:48 \u001b[92mSaved\u001b[0m fullset/boskyp__sarl_045_bishop_takes_jee_5..wav\n",
            "adding /content/faux_drive/fullset/boskyp__sarl_045_bishop_takes_jee_5..wav to boskyp.zip\n",
            "\n",
            "\u001b[90m2023-09-05 05:14:48 \u001b[96m46/64 Processing\u001b[0m sarl\n",
            "\u001b[90m2023-09-05 05:14:48 \u001b[96m46/64 Synthesizing\u001b[0m bishop takes jee 6....\n",
            "Generating autoregressive samples..\n"
          ]
        },
        {
          "output_type": "stream",
          "name": "stderr",
          "text": [
            "100%|██████████| 16/16 [03:37<00:00, 13.59s/it]\n"
          ]
        },
        {
          "output_type": "stream",
          "name": "stdout",
          "text": [
            "Computing best candidates using CLVP\n"
          ]
        },
        {
          "output_type": "stream",
          "name": "stderr",
          "text": [
            "100%|██████████| 16/16 [00:13<00:00,  1.15it/s]\n"
          ]
        },
        {
          "output_type": "stream",
          "name": "stdout",
          "text": [
            "Transforming autoregressive outputs into audio..\n"
          ]
        },
        {
          "output_type": "stream",
          "name": "stderr",
          "text": [
            "100%|██████████| 400/400 [00:24<00:00, 16.36it/s]\n"
          ]
        },
        {
          "output_type": "stream",
          "name": "stdout",
          "text": [
            "\u001b[90m2023-09-05 05:19:11 \u001b[92mSaved\u001b[0m fullset/boskyp__sarl_046_bishop_takes_jee_6..wav\n",
            "adding /content/faux_drive/fullset/boskyp__sarl_046_bishop_takes_jee_6..wav to boskyp.zip\n",
            "\n",
            "\u001b[90m2023-09-05 05:19:11 \u001b[96m47/64 Processing\u001b[0m sarl\n",
            "\u001b[90m2023-09-05 05:19:11 \u001b[96m47/64 Synthesizing\u001b[0m bishop takes jee 7....\n",
            "Generating autoregressive samples..\n"
          ]
        },
        {
          "output_type": "stream",
          "name": "stderr",
          "text": [
            "100%|██████████| 16/16 [02:58<00:00, 11.15s/it]\n"
          ]
        },
        {
          "output_type": "stream",
          "name": "stdout",
          "text": [
            "Computing best candidates using CLVP\n"
          ]
        },
        {
          "output_type": "stream",
          "name": "stderr",
          "text": [
            "100%|██████████| 16/16 [00:14<00:00,  1.14it/s]\n"
          ]
        },
        {
          "output_type": "stream",
          "name": "stdout",
          "text": [
            "Transforming autoregressive outputs into audio..\n"
          ]
        },
        {
          "output_type": "stream",
          "name": "stderr",
          "text": [
            "100%|██████████| 400/400 [00:31<00:00, 12.61it/s]\n"
          ]
        },
        {
          "output_type": "stream",
          "name": "stdout",
          "text": [
            "\u001b[90m2023-09-05 05:23:01 \u001b[92mSaved\u001b[0m fullset/boskyp__sarl_047_bishop_takes_jee_7..wav\n",
            "adding /content/faux_drive/fullset/boskyp__sarl_047_bishop_takes_jee_7..wav to boskyp.zip\n",
            "\n",
            "\u001b[90m2023-09-05 05:23:02 \u001b[96m48/64 Processing\u001b[0m sarl\n",
            "\u001b[90m2023-09-05 05:23:02 \u001b[96m48/64 Synthesizing\u001b[0m bishop takes jee 8....\n",
            "Generating autoregressive samples..\n"
          ]
        },
        {
          "output_type": "stream",
          "name": "stderr",
          "text": [
            "100%|██████████| 16/16 [03:58<00:00, 14.90s/it]\n"
          ]
        },
        {
          "output_type": "stream",
          "name": "stdout",
          "text": [
            "Computing best candidates using CLVP\n"
          ]
        },
        {
          "output_type": "stream",
          "name": "stderr",
          "text": [
            "100%|██████████| 16/16 [00:13<00:00,  1.15it/s]\n"
          ]
        },
        {
          "output_type": "stream",
          "name": "stdout",
          "text": [
            "Transforming autoregressive outputs into audio..\n"
          ]
        },
        {
          "output_type": "stream",
          "name": "stderr",
          "text": [
            "100%|██████████| 400/400 [00:23<00:00, 17.05it/s]\n"
          ]
        },
        {
          "output_type": "stream",
          "name": "stdout",
          "text": [
            "\u001b[90m2023-09-05 05:27:44 \u001b[92mSaved\u001b[0m fullset/boskyp__sarl_048_bishop_takes_jee_8..wav\n",
            "adding /content/faux_drive/fullset/boskyp__sarl_048_bishop_takes_jee_8..wav to boskyp.zip\n",
            "\n",
            "\u001b[90m2023-09-05 05:27:44 \u001b[96m49/64 Processing\u001b[0m sarl\n",
            "\u001b[90m2023-09-05 05:27:44 \u001b[96m49/64 Synthesizing\u001b[0m bishop takes aych 1....\n",
            "Generating autoregressive samples..\n"
          ]
        },
        {
          "output_type": "stream",
          "name": "stderr",
          "text": [
            "100%|██████████| 16/16 [02:50<00:00, 10.64s/it]\n"
          ]
        },
        {
          "output_type": "stream",
          "name": "stdout",
          "text": [
            "Computing best candidates using CLVP\n"
          ]
        },
        {
          "output_type": "stream",
          "name": "stderr",
          "text": [
            "100%|██████████| 16/16 [00:13<00:00,  1.16it/s]\n"
          ]
        },
        {
          "output_type": "stream",
          "name": "stdout",
          "text": [
            "Transforming autoregressive outputs into audio..\n"
          ]
        },
        {
          "output_type": "stream",
          "name": "stderr",
          "text": [
            "100%|██████████| 400/400 [00:23<00:00, 16.90it/s]\n"
          ]
        },
        {
          "output_type": "stream",
          "name": "stdout",
          "text": [
            "\u001b[90m2023-09-05 05:31:18 \u001b[92mSaved\u001b[0m fullset/boskyp__sarl_049_bishop_takes_aych_1..wav\n",
            "adding /content/faux_drive/fullset/boskyp__sarl_049_bishop_takes_aych_1..wav to boskyp.zip\n",
            "\n",
            "\u001b[90m2023-09-05 05:31:18 \u001b[96m50/64 Processing\u001b[0m sarl\n",
            "\u001b[90m2023-09-05 05:31:18 \u001b[96m50/64 Synthesizing\u001b[0m bishop takes aych 2....\n",
            "Generating autoregressive samples..\n"
          ]
        },
        {
          "output_type": "stream",
          "name": "stderr",
          "text": [
            "100%|██████████| 16/16 [04:04<00:00, 15.29s/it]\n"
          ]
        },
        {
          "output_type": "stream",
          "name": "stdout",
          "text": [
            "Computing best candidates using CLVP\n"
          ]
        },
        {
          "output_type": "stream",
          "name": "stderr",
          "text": [
            "100%|██████████| 16/16 [00:13<00:00,  1.16it/s]\n"
          ]
        },
        {
          "output_type": "stream",
          "name": "stdout",
          "text": [
            "Transforming autoregressive outputs into audio..\n"
          ]
        },
        {
          "output_type": "stream",
          "name": "stderr",
          "text": [
            "100%|██████████| 400/400 [00:25<00:00, 15.83it/s]\n"
          ]
        },
        {
          "output_type": "stream",
          "name": "stdout",
          "text": [
            "\u001b[90m2023-09-05 05:36:08 \u001b[92mSaved\u001b[0m fullset/boskyp__sarl_050_bishop_takes_aych_2..wav\n",
            "adding /content/faux_drive/fullset/boskyp__sarl_050_bishop_takes_aych_2..wav to boskyp.zip\n",
            "\n",
            "\u001b[90m2023-09-05 05:36:09 \u001b[96m51/64 Processing\u001b[0m sarl\n",
            "\u001b[90m2023-09-05 05:36:09 \u001b[96m51/64 Synthesizing\u001b[0m bishop takes aych 3....\n",
            "Generating autoregressive samples..\n"
          ]
        },
        {
          "output_type": "stream",
          "name": "stderr",
          "text": [
            "100%|██████████| 16/16 [03:57<00:00, 14.86s/it]\n"
          ]
        },
        {
          "output_type": "stream",
          "name": "stdout",
          "text": [
            "Computing best candidates using CLVP\n"
          ]
        },
        {
          "output_type": "stream",
          "name": "stderr",
          "text": [
            "100%|██████████| 16/16 [00:13<00:00,  1.15it/s]\n"
          ]
        },
        {
          "output_type": "stream",
          "name": "stdout",
          "text": [
            "Transforming autoregressive outputs into audio..\n"
          ]
        },
        {
          "output_type": "stream",
          "name": "stderr",
          "text": [
            "100%|██████████| 400/400 [00:32<00:00, 12.12it/s]\n"
          ]
        },
        {
          "output_type": "stream",
          "name": "stdout",
          "text": [
            "\u001b[90m2023-09-05 05:40:59 \u001b[92mSaved\u001b[0m fullset/boskyp__sarl_051_bishop_takes_aych_3..wav\n",
            "adding /content/faux_drive/fullset/boskyp__sarl_051_bishop_takes_aych_3..wav to boskyp.zip\n",
            "\n",
            "\u001b[90m2023-09-05 05:41:00 \u001b[96m52/64 Processing\u001b[0m sarl\n",
            "\u001b[90m2023-09-05 05:41:00 \u001b[96m52/64 Synthesizing\u001b[0m bishop takes aych 4....\n",
            "Generating autoregressive samples..\n"
          ]
        },
        {
          "output_type": "stream",
          "name": "stderr",
          "text": [
            "100%|██████████| 16/16 [03:26<00:00, 12.92s/it]\n"
          ]
        },
        {
          "output_type": "stream",
          "name": "stdout",
          "text": [
            "Computing best candidates using CLVP\n"
          ]
        },
        {
          "output_type": "stream",
          "name": "stderr",
          "text": [
            "100%|██████████| 16/16 [00:13<00:00,  1.15it/s]\n"
          ]
        },
        {
          "output_type": "stream",
          "name": "stdout",
          "text": [
            "Transforming autoregressive outputs into audio..\n"
          ]
        },
        {
          "output_type": "stream",
          "name": "stderr",
          "text": [
            "100%|██████████| 400/400 [00:27<00:00, 14.80it/s]\n"
          ]
        },
        {
          "output_type": "stream",
          "name": "stdout",
          "text": [
            "\u001b[90m2023-09-05 05:45:14 \u001b[92mSaved\u001b[0m fullset/boskyp__sarl_052_bishop_takes_aych_4..wav\n",
            "adding /content/faux_drive/fullset/boskyp__sarl_052_bishop_takes_aych_4..wav to boskyp.zip\n",
            "\n",
            "\u001b[90m2023-09-05 05:45:14 \u001b[96m53/64 Processing\u001b[0m sarl\n",
            "\u001b[90m2023-09-05 05:45:14 \u001b[96m53/64 Synthesizing\u001b[0m bishop takes aych 5....\n",
            "Generating autoregressive samples..\n"
          ]
        },
        {
          "output_type": "stream",
          "name": "stderr",
          "text": [
            "100%|██████████| 16/16 [03:23<00:00, 12.72s/it]\n"
          ]
        },
        {
          "output_type": "stream",
          "name": "stdout",
          "text": [
            "Computing best candidates using CLVP\n"
          ]
        },
        {
          "output_type": "stream",
          "name": "stderr",
          "text": [
            "100%|██████████| 16/16 [00:13<00:00,  1.15it/s]\n"
          ]
        },
        {
          "output_type": "stream",
          "name": "stdout",
          "text": [
            "Transforming autoregressive outputs into audio..\n"
          ]
        },
        {
          "output_type": "stream",
          "name": "stderr",
          "text": [
            "100%|██████████| 400/400 [00:27<00:00, 14.38it/s]\n"
          ]
        },
        {
          "output_type": "stream",
          "name": "stdout",
          "text": [
            "\u001b[90m2023-09-05 05:49:25 \u001b[92mSaved\u001b[0m fullset/boskyp__sarl_053_bishop_takes_aych_5..wav\n",
            "adding /content/faux_drive/fullset/boskyp__sarl_053_bishop_takes_aych_5..wav to boskyp.zip\n",
            "\n",
            "\u001b[90m2023-09-05 05:49:26 \u001b[96m54/64 Processing\u001b[0m sarl\n",
            "\u001b[90m2023-09-05 05:49:26 \u001b[96m54/64 Synthesizing\u001b[0m bishop takes aych 6....\n",
            "Generating autoregressive samples..\n"
          ]
        },
        {
          "output_type": "stream",
          "name": "stderr",
          "text": [
            "100%|██████████| 16/16 [03:36<00:00, 13.54s/it]\n"
          ]
        },
        {
          "output_type": "stream",
          "name": "stdout",
          "text": [
            "Computing best candidates using CLVP\n"
          ]
        },
        {
          "output_type": "stream",
          "name": "stderr",
          "text": [
            "100%|██████████| 16/16 [00:13<00:00,  1.15it/s]\n"
          ]
        },
        {
          "output_type": "stream",
          "name": "stdout",
          "text": [
            "Transforming autoregressive outputs into audio..\n"
          ]
        },
        {
          "output_type": "stream",
          "name": "stderr",
          "text": [
            "100%|██████████| 400/400 [00:32<00:00, 12.28it/s]\n"
          ]
        },
        {
          "output_type": "stream",
          "name": "stdout",
          "text": [
            "\u001b[90m2023-09-05 05:53:55 \u001b[92mSaved\u001b[0m fullset/boskyp__sarl_054_bishop_takes_aych_6..wav\n",
            "adding /content/faux_drive/fullset/boskyp__sarl_054_bishop_takes_aych_6..wav to boskyp.zip\n",
            "\n",
            "\u001b[90m2023-09-05 05:53:56 \u001b[96m55/64 Processing\u001b[0m sarl\n",
            "\u001b[90m2023-09-05 05:53:56 \u001b[96m55/64 Synthesizing\u001b[0m bishop takes aych 7....\n",
            "Generating autoregressive samples..\n"
          ]
        },
        {
          "output_type": "stream",
          "name": "stderr",
          "text": [
            "100%|██████████| 16/16 [03:23<00:00, 12.73s/it]\n"
          ]
        },
        {
          "output_type": "stream",
          "name": "stdout",
          "text": [
            "Computing best candidates using CLVP\n"
          ]
        },
        {
          "output_type": "stream",
          "name": "stderr",
          "text": [
            "100%|██████████| 16/16 [00:13<00:00,  1.15it/s]\n"
          ]
        },
        {
          "output_type": "stream",
          "name": "stdout",
          "text": [
            "Transforming autoregressive outputs into audio..\n"
          ]
        },
        {
          "output_type": "stream",
          "name": "stderr",
          "text": [
            "100%|██████████| 400/400 [00:23<00:00, 17.09it/s]\n"
          ]
        },
        {
          "output_type": "stream",
          "name": "stdout",
          "text": [
            "\u001b[90m2023-09-05 05:58:03 \u001b[92mSaved\u001b[0m fullset/boskyp__sarl_055_bishop_takes_aych_7..wav\n",
            "adding /content/faux_drive/fullset/boskyp__sarl_055_bishop_takes_aych_7..wav to boskyp.zip\n",
            "\n",
            "\u001b[90m2023-09-05 05:58:03 \u001b[96m56/64 Processing\u001b[0m sarl\n",
            "\u001b[90m2023-09-05 05:58:03 \u001b[96m56/64 Synthesizing\u001b[0m bishop takes aych 8....\n",
            "Generating autoregressive samples..\n"
          ]
        },
        {
          "output_type": "stream",
          "name": "stderr",
          "text": [
            "100%|██████████| 16/16 [03:38<00:00, 13.65s/it]\n"
          ]
        },
        {
          "output_type": "stream",
          "name": "stdout",
          "text": [
            "Computing best candidates using CLVP\n"
          ]
        },
        {
          "output_type": "stream",
          "name": "stderr",
          "text": [
            "100%|██████████| 16/16 [00:13<00:00,  1.15it/s]\n"
          ]
        },
        {
          "output_type": "stream",
          "name": "stdout",
          "text": [
            "Transforming autoregressive outputs into audio..\n"
          ]
        },
        {
          "output_type": "stream",
          "name": "stderr",
          "text": [
            "100%|██████████| 400/400 [00:26<00:00, 14.86it/s]\n"
          ]
        },
        {
          "output_type": "stream",
          "name": "stdout",
          "text": [
            "\u001b[90m2023-09-05 06:02:29 \u001b[92mSaved\u001b[0m fullset/boskyp__sarl_056_bishop_takes_aych_8..wav\n",
            "adding /content/faux_drive/fullset/boskyp__sarl_056_bishop_takes_aych_8..wav to boskyp.zip\n",
            "\n",
            "\u001b[90m2023-09-05 06:02:29 \u001b[96m57/64 Processing\u001b[0m sarl\n",
            "\u001b[90m2023-09-05 06:02:29 \u001b[96m57/64 Synthesizing\u001b[0m king takes ay 1....\n",
            "Generating autoregressive samples..\n"
          ]
        },
        {
          "output_type": "stream",
          "name": "stderr",
          "text": [
            "100%|██████████| 16/16 [02:12<00:00,  8.30s/it]\n"
          ]
        },
        {
          "output_type": "stream",
          "name": "stdout",
          "text": [
            "Computing best candidates using CLVP\n"
          ]
        },
        {
          "output_type": "stream",
          "name": "stderr",
          "text": [
            "100%|██████████| 16/16 [00:13<00:00,  1.15it/s]\n"
          ]
        },
        {
          "output_type": "stream",
          "name": "stdout",
          "text": [
            "Transforming autoregressive outputs into audio..\n"
          ]
        },
        {
          "output_type": "stream",
          "name": "stderr",
          "text": [
            "100%|██████████| 400/400 [00:24<00:00, 16.33it/s]\n"
          ]
        },
        {
          "output_type": "stream",
          "name": "stdout",
          "text": [
            "\u001b[90m2023-09-05 06:05:26 \u001b[92mSaved\u001b[0m fullset/boskyp__sarl_057_king_takes_ay_1..wav\n",
            "adding /content/faux_drive/fullset/boskyp__sarl_057_king_takes_ay_1..wav to boskyp.zip\n",
            "\n",
            "\u001b[90m2023-09-05 06:05:27 \u001b[96m58/64 Processing\u001b[0m sarl\n",
            "\u001b[90m2023-09-05 06:05:27 \u001b[96m58/64 Synthesizing\u001b[0m king takes ay 2....\n",
            "Generating autoregressive samples..\n"
          ]
        }
      ]
    }
  ]
}